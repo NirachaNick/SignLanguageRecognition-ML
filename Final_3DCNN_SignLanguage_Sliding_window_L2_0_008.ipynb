{
  "cells": [
    {
      "cell_type": "markdown",
      "metadata": {
        "id": "view-in-github",
        "colab_type": "text"
      },
      "source": [
        "<a href=\"https://colab.research.google.com/github/NirachaNick/SignLanguageRecognition-ML/blob/main/Final_3DCNN_SignLanguage_Sliding_window_L2_0_008.ipynb\" target=\"_parent\"><img src=\"https://colab.research.google.com/assets/colab-badge.svg\" alt=\"Open In Colab\"/></a>"
      ]
    },
    {
      "cell_type": "code",
      "execution_count": null,
      "metadata": {
        "id": "SdnG4fBDP8JT"
      },
      "outputs": [],
      "source": [
        "# Import the required libraries.\n",
        "import os\n",
        "import cv2\n",
        "import math\n",
        "import random\n",
        "import numpy as np\n",
        "import datetime as dt\n",
        "import tensorflow as tf\n",
        "from collections import deque\n",
        "import matplotlib.pyplot as plt\n",
        "\n",
        "from moviepy.editor import *\n",
        "%matplotlib inline\n",
        "\n",
        "from sklearn.model_selection import train_test_split\n",
        "\n",
        "from tensorflow.keras.layers import *\n",
        "from tensorflow.keras.models import Sequential\n",
        "from tensorflow.keras.utils import to_categorical\n",
        "from tensorflow.keras.callbacks import EarlyStopping\n",
        "from tensorflow.keras.utils import plot_model\n"
      ]
    },
    {
      "cell_type": "code",
      "execution_count": null,
      "metadata": {
        "id": "ykOqqlz8QaY3"
      },
      "outputs": [],
      "source": [
        "seed_constant = 27\n",
        "np.random.seed(seed_constant)\n",
        "random.seed(seed_constant)\n",
        "tf.random.set_seed(seed_constant)"
      ]
    },
    {
      "cell_type": "markdown",
      "metadata": {
        "id": "K8ykp9n_Qfyr"
      },
      "source": [
        "Data Visualization"
      ]
    },
    {
      "cell_type": "code",
      "execution_count": null,
      "metadata": {
        "id": "vyJrYngCQn-b"
      },
      "outputs": [],
      "source": [
        "# Get the names of all classes/categories in train_videos\n",
        "all_classes_names = os.listdir('/content/drive/MyDrive/ProjectResearchMsc/Train_videos/train_video-complete')\n",
        "\n"
      ]
    },
    {
      "cell_type": "code",
      "source": [
        "# Specify the height and width to which each video frame will be resized in  dataset.\n",
        "IMAGE_HEIGHT, IMAGE_WIDTH = 64, 64\n",
        "\n",
        "# Specify the number of frames of a video that will be fed to the model as one sequence.\n",
        "SEQUENCE_LENGTH = 50\n",
        "\n",
        "# Specify the stride for the sliding window\n",
        "STRIDE = 5\n",
        "\n",
        "# Specify the directory containing the UCF50 dataset.\n",
        "DATASET_DIR = \"/content/drive/MyDrive/ProjectResearchMsc/Train_videos/train_video-complete\"\n",
        "\n",
        "# Specify the list containing the names of the classes used for training.\n",
        "#CLASSES_LIST = [\"book\", \"drink\", \"computer\", \"before\",\"chair\",\"go\"]\n",
        "CLASSES_LIST = [\"deaf\", \"help\", \"no\", \"thin\",\"walk\",\"yes\",\"finish\",\"hot\",\"many\",\"bad\"]\n",
        "#CLASSES_LIST = [\"book\", \"drink\", \"computer\", \"before\",\"chair\",\"go\",\"clothes\",\"who\",\"candy\",\"cousin\",\"deaf\",\"fine\",\"help\",\"no\",\"thin\",\"walk\"]\n",
        "\n",
        "def frames_extraction(video_file_path):\n",
        "    video_reader = cv2.VideoCapture(video_file_path)\n",
        "    frames = []\n",
        "\n",
        "    while True:\n",
        "        success, frame = video_reader.read()\n",
        "        if not success:\n",
        "            break\n",
        "\n",
        "        # Resize and normalize the frame\n",
        "        resized_frame = cv2.resize(frame, (IMAGE_HEIGHT, IMAGE_WIDTH))\n",
        "        normalized_frame = resized_frame / 255.0\n",
        "\n",
        "        frames.append(normalized_frame)\n",
        "\n",
        "    video_reader.release()\n",
        "    return frames\n",
        "\n",
        "def sliding_window(sequence, window_size, stride):\n",
        "    num_samples = (len(sequence) - window_size) // stride + 1\n",
        "    sub_sequences = [sequence[i:i + window_size] for i in range(0, num_samples * stride, stride)]\n",
        "    return np.array(sub_sequences)\n",
        "\n",
        "def create_dataset():\n",
        "    features = []\n",
        "    labels = []\n",
        "    video_files_paths = []\n",
        "\n",
        "    for class_index, class_name in enumerate(CLASSES_LIST):\n",
        "        print(f'Extracting Data of Class: {class_name}')\n",
        "\n",
        "        files_list = os.listdir(os.path.join(DATASET_DIR, class_name))\n",
        "\n",
        "        for file_name in files_list:\n",
        "            video_file_path = os.path.join(DATASET_DIR, class_name, file_name)\n",
        "\n",
        "            video_frames = frames_extraction(video_file_path)\n",
        "\n",
        "            if len(video_frames) >= SEQUENCE_LENGTH:\n",
        "                sub_sequences = sliding_window(video_frames, SEQUENCE_LENGTH, STRIDE)\n",
        "                features.extend(sub_sequences)\n",
        "                labels.extend([class_index] * len(sub_sequences))\n",
        "                video_files_paths.extend([video_file_path] * len(sub_sequences))\n",
        "\n",
        "    features = np.asarray(features)\n",
        "    labels = np.array(labels)\n",
        "\n",
        "    return features, labels, video_files_paths\n",
        "\n",
        "# Create the dataset.\n",
        "features, labels, video_files_paths = create_dataset()\n",
        "\n",
        "# Using Keras's to_categorical method to convert labels into one-hot-encoded vectors\n",
        "one_hot_encoded_labels = to_categorical(labels)\n",
        "\n",
        "\n"
      ],
      "metadata": {
        "colab": {
          "base_uri": "https://localhost:8080/"
        },
        "id": "zKjyA4hjqrh5",
        "outputId": "66b1d73e-01e1-4d80-f847-d8065c733089"
      },
      "execution_count": null,
      "outputs": [
        {
          "output_type": "stream",
          "name": "stdout",
          "text": [
            "Extracting Data of Class: deaf\n",
            "Extracting Data of Class: help\n",
            "Extracting Data of Class: no\n",
            "Extracting Data of Class: thin\n",
            "Extracting Data of Class: walk\n",
            "Extracting Data of Class: yes\n",
            "Extracting Data of Class: finish\n",
            "Extracting Data of Class: hot\n",
            "Extracting Data of Class: many\n",
            "Extracting Data of Class: bad\n"
          ]
        }
      ]
    },
    {
      "cell_type": "code",
      "source": [
        "# Split the Data into Train (75%), Validation and Test Set (25%).\n",
        "features_train, features_temp, labels_train, labels_temp = train_test_split(\n",
        "    features, one_hot_encoded_labels, test_size=0.25, shuffle=True, random_state=seed_constant\n",
        ")\n",
        "features_val, features_test, labels_val, labels_test = train_test_split(\n",
        "    features_temp, labels_temp, test_size=0.5, shuffle=True, random_state=seed_constant\n",
        ")\n",
        "\n",
        "# Display the shapes of the datasets\n",
        "print(\"Train Features shape:\", features_train.shape)\n",
        "print(\"Train Labels shape:\", labels_train.shape)\n",
        "print(\"Validation Features shape:\", features_val.shape)\n",
        "print(\"Validation Labels shape:\", labels_val.shape)\n",
        "print(\"Test Features shape:\", features_test.shape)\n",
        "print(\"Test Labels shape:\", labels_test.shape)"
      ],
      "metadata": {
        "colab": {
          "base_uri": "https://localhost:8080/"
        },
        "id": "l9NUd5LdiUXg",
        "outputId": "c97087a6-83c9-4dea-8ab2-9ba1e6e03977"
      },
      "execution_count": null,
      "outputs": [
        {
          "output_type": "stream",
          "name": "stdout",
          "text": [
            "Train Features shape: (467, 50, 64, 64, 3)\n",
            "Train Labels shape: (467, 10)\n",
            "Validation Features shape: (78, 50, 64, 64, 3)\n",
            "Validation Labels shape: (78, 10)\n",
            "Test Features shape: (78, 50, 64, 64, 3)\n",
            "Test Labels shape: (78, 10)\n"
          ]
        }
      ]
    },
    {
      "cell_type": "markdown",
      "metadata": {
        "id": "n_zTbHbHrBYj"
      },
      "source": [
        "Preprocess Data"
      ]
    },
    {
      "cell_type": "markdown",
      "metadata": {
        "id": "dbijzFnPrvTZ"
      },
      "source": [
        "Construct the CNN3D Model"
      ]
    },
    {
      "cell_type": "code",
      "execution_count": null,
      "metadata": {
        "id": "aWjUDTDasCtg",
        "colab": {
          "base_uri": "https://localhost:8080/"
        },
        "outputId": "50ef253a-171b-42df-ef6b-6bbd696b3f3f"
      },
      "outputs": [
        {
          "output_type": "stream",
          "name": "stdout",
          "text": [
            "Model: \"sequential\"\n",
            "_________________________________________________________________\n",
            " Layer (type)                Output Shape              Param #   \n",
            "=================================================================\n",
            " conv3d (Conv3D)             (None, 50, 64, 64, 16)    1312      \n",
            "                                                                 \n",
            " max_pooling3d (MaxPooling3D  (None, 50, 16, 16, 16)   0         \n",
            " )                                                               \n",
            "                                                                 \n",
            " conv3d_1 (Conv3D)           (None, 50, 16, 16, 32)    13856     \n",
            "                                                                 \n",
            " max_pooling3d_1 (MaxPooling  (None, 50, 4, 4, 32)     0         \n",
            " 3D)                                                             \n",
            "                                                                 \n",
            " conv3d_2 (Conv3D)           (None, 50, 4, 4, 64)      55360     \n",
            "                                                                 \n",
            " max_pooling3d_2 (MaxPooling  (None, 50, 2, 2, 64)     0         \n",
            " 3D)                                                             \n",
            "                                                                 \n",
            " conv3d_3 (Conv3D)           (None, 50, 2, 2, 64)      110656    \n",
            "                                                                 \n",
            " max_pooling3d_3 (MaxPooling  (None, 50, 1, 1, 64)     0         \n",
            " 3D)                                                             \n",
            "                                                                 \n",
            " dense (Dense)               (None, 50, 1, 1, 128)     8320      \n",
            "                                                                 \n",
            " dropout (Dropout)           (None, 50, 1, 1, 128)     0         \n",
            "                                                                 \n",
            " flatten (Flatten)           (None, 6400)              0         \n",
            "                                                                 \n",
            " dense_1 (Dense)             (None, 10)                64010     \n",
            "                                                                 \n",
            "=================================================================\n",
            "Total params: 253,514\n",
            "Trainable params: 253,514\n",
            "Non-trainable params: 0\n",
            "_________________________________________________________________\n",
            "CNN3D Model Created Successfully!\n"
          ]
        }
      ],
      "source": [
        "import time  # Import the time module\n",
        "# Record the start time\n",
        "start_time = time.time()\n",
        "#CNN3D\n",
        "from tensorflow.keras.layers import Conv3D, MaxPooling3D, Flatten, Dropout, Dense\n",
        "from tensorflow.keras.models import Sequential\n",
        "from tensorflow.keras.regularizers import l2\n",
        "\n",
        "def create_CNN3D_model():\n",
        "    '''\n",
        "    This function will construct a 3D Convolutional Neural Network (3DCNN) model.\n",
        "    Returns:\n",
        "        model: The constructed 3DCNN model.\n",
        "    '''\n",
        "\n",
        "    # Create a Sequential model\n",
        "    model = Sequential()\n",
        "\n",
        "    # Define the Model Architecture\n",
        "    ###################################################################\n",
        "\n",
        "    model.add(Conv3D(16, (3, 3, 3), padding='same', activation='relu',\n",
        "                     input_shape=(SEQUENCE_LENGTH, IMAGE_HEIGHT, IMAGE_WIDTH, 3)))\n",
        "\n",
        "    model.add(MaxPooling3D((1, 4, 4)))\n",
        "    #model.add(Dropout(0.5))\n",
        "\n",
        "    model.add(Conv3D(32, (3, 3, 3), padding='same', activation='relu'))\n",
        "    model.add(MaxPooling3D((1, 4, 4)))\n",
        "    #model.add(Dropout(0.5))\n",
        "\n",
        "    model.add(Conv3D(64, (3, 3, 3), padding='same', activation='relu'))\n",
        "    model.add(MaxPooling3D((1, 2, 2)))\n",
        "    #model.add(Dropout(0.5))\n",
        "\n",
        "    model.add(Conv3D(64, (3, 3, 3), padding='same', activation='relu'))\n",
        "    model.add(MaxPooling3D((1, 2, 2)))\n",
        "    #model.add(Dropout(0.5))\n",
        "    # Add L2 regularization to layers\n",
        "    model.add(Dense(128, activation='relu', kernel_regularizer=l2(0.08)))\n",
        "    model.add(Dropout(0.5))\n",
        "\n",
        "    model.add(Flatten())\n",
        "\n",
        "    model.add(Dense(len(CLASSES_LIST), activation='softmax'))\n",
        "\n",
        "\n",
        "\n",
        "\n",
        "    ###################################################################\n",
        "\n",
        "    # Display the model's summary\n",
        "    model.summary()\n",
        "\n",
        "    return model\n",
        "\n",
        "# Create the 3DCNN model\n",
        "CNN3D_model = create_CNN3D_model()\n",
        "\n",
        "# Display the success message\n",
        "print(\"CNN3D Model Created Successfully!\")\n",
        "\n"
      ]
    },
    {
      "cell_type": "code",
      "execution_count": null,
      "metadata": {
        "id": "jR8VIQSjsLWI",
        "colab": {
          "base_uri": "https://localhost:8080/"
        },
        "outputId": "df2da90d-b7d3-4286-9a09-b056369769ac"
      },
      "outputs": [
        {
          "output_type": "stream",
          "name": "stdout",
          "text": [
            "Epoch 1/200\n",
            "30/30 [==============================] - 14s 62ms/step - loss: 7.5568 - accuracy: 0.1263 - val_loss: 6.1618 - val_accuracy: 0.1410\n",
            "Epoch 2/200\n",
            "30/30 [==============================] - 1s 25ms/step - loss: 5.2543 - accuracy: 0.1413 - val_loss: 4.4372 - val_accuracy: 0.1410\n",
            "Epoch 3/200\n",
            "30/30 [==============================] - 1s 25ms/step - loss: 3.7928 - accuracy: 0.2077 - val_loss: 3.1364 - val_accuracy: 0.2821\n",
            "Epoch 4/200\n",
            "30/30 [==============================] - 1s 25ms/step - loss: 2.6751 - accuracy: 0.3212 - val_loss: 2.3313 - val_accuracy: 0.3846\n",
            "Epoch 5/200\n",
            "30/30 [==============================] - 1s 25ms/step - loss: 2.0093 - accuracy: 0.4218 - val_loss: 1.6130 - val_accuracy: 0.5897\n",
            "Epoch 6/200\n",
            "30/30 [==============================] - 1s 25ms/step - loss: 1.4389 - accuracy: 0.5717 - val_loss: 1.3018 - val_accuracy: 0.6154\n",
            "Epoch 7/200\n",
            "30/30 [==============================] - 1s 25ms/step - loss: 1.1439 - accuracy: 0.6767 - val_loss: 1.1751 - val_accuracy: 0.6923\n",
            "Epoch 8/200\n",
            "30/30 [==============================] - 1s 25ms/step - loss: 0.9248 - accuracy: 0.7152 - val_loss: 1.0483 - val_accuracy: 0.6667\n",
            "Epoch 9/200\n",
            "30/30 [==============================] - 1s 25ms/step - loss: 0.7502 - accuracy: 0.7559 - val_loss: 1.0668 - val_accuracy: 0.6154\n",
            "Epoch 10/200\n",
            "30/30 [==============================] - 1s 25ms/step - loss: 0.7481 - accuracy: 0.7730 - val_loss: 0.7867 - val_accuracy: 0.7949\n",
            "Epoch 11/200\n",
            "30/30 [==============================] - 1s 26ms/step - loss: 0.4750 - accuracy: 0.8887 - val_loss: 0.8111 - val_accuracy: 0.7821\n",
            "Epoch 12/200\n",
            "30/30 [==============================] - 1s 25ms/step - loss: 0.4633 - accuracy: 0.8715 - val_loss: 0.5987 - val_accuracy: 0.8205\n",
            "Epoch 13/200\n",
            "30/30 [==============================] - 1s 25ms/step - loss: 0.4317 - accuracy: 0.8779 - val_loss: 0.7632 - val_accuracy: 0.7564\n",
            "Epoch 14/200\n",
            "30/30 [==============================] - 1s 25ms/step - loss: 0.3221 - accuracy: 0.9186 - val_loss: 0.7454 - val_accuracy: 0.7949\n",
            "Epoch 15/200\n",
            "30/30 [==============================] - 1s 25ms/step - loss: 0.2642 - accuracy: 0.9593 - val_loss: 0.4563 - val_accuracy: 0.9231\n",
            "Epoch 16/200\n",
            "30/30 [==============================] - 1s 25ms/step - loss: 0.1652 - accuracy: 0.9722 - val_loss: 0.3841 - val_accuracy: 0.9103\n",
            "Epoch 17/200\n",
            "30/30 [==============================] - 1s 25ms/step - loss: 0.1445 - accuracy: 0.9807 - val_loss: 0.5128 - val_accuracy: 0.8974\n",
            "Epoch 18/200\n",
            "30/30 [==============================] - 1s 24ms/step - loss: 0.2026 - accuracy: 0.9636 - val_loss: 0.9536 - val_accuracy: 0.7308\n",
            "Epoch 19/200\n",
            "30/30 [==============================] - 1s 25ms/step - loss: 0.3645 - accuracy: 0.9079 - val_loss: 0.5625 - val_accuracy: 0.8205\n",
            "Epoch 20/200\n",
            "30/30 [==============================] - 1s 24ms/step - loss: 0.1550 - accuracy: 0.9807 - val_loss: 0.4348 - val_accuracy: 0.8974\n",
            "Epoch 21/200\n",
            "30/30 [==============================] - 1s 25ms/step - loss: 0.1022 - accuracy: 0.9936 - val_loss: 0.3967 - val_accuracy: 0.8974\n",
            "Epoch 22/200\n",
            "30/30 [==============================] - 1s 24ms/step - loss: 0.1263 - accuracy: 0.9786 - val_loss: 0.4883 - val_accuracy: 0.9231\n",
            "Epoch 23/200\n",
            "30/30 [==============================] - 1s 25ms/step - loss: 0.1326 - accuracy: 0.9764 - val_loss: 0.3612 - val_accuracy: 0.9359\n",
            "Epoch 24/200\n",
            "30/30 [==============================] - 1s 24ms/step - loss: 0.1022 - accuracy: 0.9893 - val_loss: 0.4639 - val_accuracy: 0.9359\n",
            "Epoch 25/200\n",
            "30/30 [==============================] - 1s 24ms/step - loss: 0.1509 - accuracy: 0.9700 - val_loss: 0.7608 - val_accuracy: 0.7692\n",
            "Epoch 26/200\n",
            "30/30 [==============================] - 1s 24ms/step - loss: 0.2353 - accuracy: 0.9572 - val_loss: 0.6933 - val_accuracy: 0.8333\n",
            "Epoch 27/200\n",
            "30/30 [==============================] - 1s 25ms/step - loss: 0.1604 - accuracy: 0.9743 - val_loss: 0.4831 - val_accuracy: 0.9103\n",
            "Epoch 28/200\n",
            "30/30 [==============================] - 1s 25ms/step - loss: 0.1567 - accuracy: 0.9572 - val_loss: 0.6699 - val_accuracy: 0.8333\n",
            "Epoch 29/200\n",
            "30/30 [==============================] - 1s 24ms/step - loss: 0.1471 - accuracy: 0.9829 - val_loss: 0.3482 - val_accuracy: 0.9359\n",
            "Epoch 30/200\n",
            "30/30 [==============================] - 1s 25ms/step - loss: 0.0777 - accuracy: 0.9936 - val_loss: 0.3266 - val_accuracy: 0.9359\n",
            "Epoch 31/200\n",
            "30/30 [==============================] - 1s 25ms/step - loss: 0.0618 - accuracy: 0.9979 - val_loss: 0.3875 - val_accuracy: 0.9359\n",
            "Epoch 32/200\n",
            "30/30 [==============================] - 1s 25ms/step - loss: 0.0498 - accuracy: 1.0000 - val_loss: 0.3023 - val_accuracy: 0.9359\n",
            "Epoch 33/200\n",
            "30/30 [==============================] - 1s 25ms/step - loss: 0.0430 - accuracy: 1.0000 - val_loss: 0.3123 - val_accuracy: 0.9487\n",
            "Epoch 34/200\n",
            "30/30 [==============================] - 1s 25ms/step - loss: 0.0383 - accuracy: 1.0000 - val_loss: 0.3267 - val_accuracy: 0.9359\n",
            "Epoch 35/200\n",
            "30/30 [==============================] - 1s 25ms/step - loss: 0.0346 - accuracy: 1.0000 - val_loss: 0.3088 - val_accuracy: 0.9487\n",
            "Epoch 36/200\n",
            "30/30 [==============================] - 1s 24ms/step - loss: 0.0317 - accuracy: 1.0000 - val_loss: 0.3076 - val_accuracy: 0.9487\n",
            "Epoch 37/200\n",
            "30/30 [==============================] - 1s 24ms/step - loss: 0.0293 - accuracy: 1.0000 - val_loss: 0.3278 - val_accuracy: 0.9487\n",
            "Epoch 38/200\n",
            "30/30 [==============================] - 1s 25ms/step - loss: 0.0274 - accuracy: 1.0000 - val_loss: 0.3050 - val_accuracy: 0.9487\n",
            "Epoch 39/200\n",
            "30/30 [==============================] - 1s 24ms/step - loss: 0.0240 - accuracy: 1.0000 - val_loss: 0.2910 - val_accuracy: 0.9487\n",
            "Epoch 40/200\n",
            "30/30 [==============================] - 1s 24ms/step - loss: 0.0223 - accuracy: 1.0000 - val_loss: 0.3135 - val_accuracy: 0.9487\n",
            "Epoch 41/200\n",
            "30/30 [==============================] - 1s 24ms/step - loss: 0.0211 - accuracy: 1.0000 - val_loss: 0.3112 - val_accuracy: 0.9487\n",
            "Epoch 42/200\n",
            "30/30 [==============================] - 1s 24ms/step - loss: 0.0603 - accuracy: 0.9893 - val_loss: 0.4454 - val_accuracy: 0.8846\n",
            "Epoch 43/200\n",
            "30/30 [==============================] - 1s 24ms/step - loss: 0.1644 - accuracy: 0.9572 - val_loss: 0.4200 - val_accuracy: 0.9103\n",
            "Epoch 44/200\n",
            "30/30 [==============================] - 1s 24ms/step - loss: 0.2488 - accuracy: 0.9229 - val_loss: 0.4935 - val_accuracy: 0.9103\n",
            "Epoch 45/200\n",
            "30/30 [==============================] - 1s 24ms/step - loss: 0.1482 - accuracy: 0.9722 - val_loss: 0.4453 - val_accuracy: 0.9103\n",
            "Epoch 46/200\n",
            "30/30 [==============================] - 1s 25ms/step - loss: 0.1075 - accuracy: 0.9829 - val_loss: 0.4755 - val_accuracy: 0.8974\n",
            "Epoch 47/200\n",
            "30/30 [==============================] - 1s 25ms/step - loss: 0.0725 - accuracy: 0.9936 - val_loss: 0.4727 - val_accuracy: 0.9359\n",
            "Epoch 48/200\n",
            "30/30 [==============================] - 1s 26ms/step - loss: 0.0563 - accuracy: 0.9957 - val_loss: 1.0131 - val_accuracy: 0.8590\n",
            "Epoch 49/200\n",
            "30/30 [==============================] - 1s 25ms/step - loss: 0.0630 - accuracy: 0.9957 - val_loss: 0.3387 - val_accuracy: 0.9359\n",
            "Epoch 50/200\n",
            "30/30 [==============================] - 1s 25ms/step - loss: 0.0385 - accuracy: 1.0000 - val_loss: 0.3423 - val_accuracy: 0.9359\n",
            "Epoch 51/200\n",
            "30/30 [==============================] - 1s 25ms/step - loss: 0.0332 - accuracy: 1.0000 - val_loss: 0.3538 - val_accuracy: 0.9487\n",
            "Epoch 52/200\n",
            "30/30 [==============================] - 1s 25ms/step - loss: 0.0292 - accuracy: 1.0000 - val_loss: 0.3134 - val_accuracy: 0.9487\n",
            "Epoch 53/200\n",
            "30/30 [==============================] - 1s 25ms/step - loss: 0.0263 - accuracy: 1.0000 - val_loss: 0.3091 - val_accuracy: 0.9487\n",
            "Epoch 54/200\n",
            "30/30 [==============================] - 1s 25ms/step - loss: 0.0229 - accuracy: 1.0000 - val_loss: 0.3136 - val_accuracy: 0.9487\n",
            "Epoch 55/200\n",
            "30/30 [==============================] - 1s 25ms/step - loss: 0.0207 - accuracy: 1.0000 - val_loss: 0.3044 - val_accuracy: 0.9487\n",
            "Epoch 56/200\n",
            "30/30 [==============================] - 1s 25ms/step - loss: 0.0192 - accuracy: 1.0000 - val_loss: 0.3308 - val_accuracy: 0.9487\n",
            "Epoch 57/200\n",
            "30/30 [==============================] - 1s 24ms/step - loss: 0.0189 - accuracy: 1.0000 - val_loss: 0.3053 - val_accuracy: 0.9359\n",
            "Epoch 58/200\n",
            "30/30 [==============================] - 1s 25ms/step - loss: 0.0163 - accuracy: 1.0000 - val_loss: 0.2787 - val_accuracy: 0.9487\n",
            "Epoch 59/200\n",
            "30/30 [==============================] - 1s 24ms/step - loss: 0.0149 - accuracy: 1.0000 - val_loss: 0.2913 - val_accuracy: 0.9487\n",
            "Epoch 60/200\n",
            "30/30 [==============================] - 1s 24ms/step - loss: 0.0137 - accuracy: 1.0000 - val_loss: 0.2889 - val_accuracy: 0.9487\n",
            "Epoch 61/200\n",
            "30/30 [==============================] - 1s 25ms/step - loss: 0.0126 - accuracy: 1.0000 - val_loss: 0.3003 - val_accuracy: 0.9487\n",
            "Epoch 62/200\n",
            "30/30 [==============================] - 1s 24ms/step - loss: 0.0117 - accuracy: 1.0000 - val_loss: 0.2935 - val_accuracy: 0.9615\n",
            "Epoch 63/200\n",
            "30/30 [==============================] - 1s 24ms/step - loss: 0.0112 - accuracy: 1.0000 - val_loss: 0.2847 - val_accuracy: 0.9487\n",
            "Epoch 64/200\n",
            "30/30 [==============================] - 1s 25ms/step - loss: 0.0107 - accuracy: 1.0000 - val_loss: 0.2804 - val_accuracy: 0.9615\n",
            "Epoch 65/200\n",
            "30/30 [==============================] - 1s 24ms/step - loss: 0.0102 - accuracy: 1.0000 - val_loss: 0.2858 - val_accuracy: 0.9615\n",
            "Epoch 66/200\n",
            "30/30 [==============================] - 1s 24ms/step - loss: 0.0094 - accuracy: 1.0000 - val_loss: 0.2925 - val_accuracy: 0.9487\n",
            "Epoch 67/200\n",
            "30/30 [==============================] - 1s 24ms/step - loss: 0.0091 - accuracy: 1.0000 - val_loss: 0.3001 - val_accuracy: 0.9615\n",
            "Epoch 68/200\n",
            "30/30 [==============================] - 1s 25ms/step - loss: 0.0089 - accuracy: 1.0000 - val_loss: 0.3062 - val_accuracy: 0.9359\n",
            "Epoch 69/200\n",
            "30/30 [==============================] - 1s 24ms/step - loss: 0.0097 - accuracy: 1.0000 - val_loss: 0.3243 - val_accuracy: 0.9487\n",
            "Epoch 70/200\n",
            "30/30 [==============================] - 1s 26ms/step - loss: 0.0083 - accuracy: 1.0000 - val_loss: 0.3141 - val_accuracy: 0.9615\n",
            "Epoch 71/200\n",
            "30/30 [==============================] - 1s 25ms/step - loss: 0.0079 - accuracy: 1.0000 - val_loss: 0.2958 - val_accuracy: 0.9615\n",
            "Epoch 72/200\n",
            "30/30 [==============================] - 1s 24ms/step - loss: 0.0079 - accuracy: 1.0000 - val_loss: 0.3179 - val_accuracy: 0.9487\n",
            "Epoch 73/200\n",
            "30/30 [==============================] - 1s 25ms/step - loss: 0.0083 - accuracy: 1.0000 - val_loss: 0.3179 - val_accuracy: 0.9487\n",
            "Epoch 74/200\n",
            "30/30 [==============================] - 1s 25ms/step - loss: 0.0083 - accuracy: 1.0000 - val_loss: 0.3173 - val_accuracy: 0.9359\n",
            "Epoch 75/200\n",
            "30/30 [==============================] - 1s 25ms/step - loss: 0.0072 - accuracy: 1.0000 - val_loss: 0.3291 - val_accuracy: 0.9615\n",
            "Epoch 76/200\n",
            "30/30 [==============================] - 1s 25ms/step - loss: 0.0069 - accuracy: 1.0000 - val_loss: 0.3337 - val_accuracy: 0.9487\n",
            "Epoch 77/200\n",
            "30/30 [==============================] - 1s 24ms/step - loss: 0.0068 - accuracy: 1.0000 - val_loss: 0.3530 - val_accuracy: 0.9487\n",
            "Epoch 78/200\n",
            "30/30 [==============================] - 1s 26ms/step - loss: 0.0065 - accuracy: 1.0000 - val_loss: 0.3303 - val_accuracy: 0.9487\n"
          ]
        }
      ],
      "source": [
        "# Create an Instance of Early Stopping Callback.\n",
        "early_stopping_callback = EarlyStopping(monitor = 'val_loss', patience = 20, mode = 'min', restore_best_weights = True)\n",
        "\n",
        "# Compile the model and specify loss function, optimizer and metrics to the model.\n",
        "CNN3D_model.compile(loss = 'categorical_crossentropy', optimizer = 'Adam', metrics = [\"accuracy\"])\n",
        "\n",
        "# Start training the model.\n",
        "CNN3D_model_training_history = CNN3D_model.fit(x=features_train, y=labels_train, epochs=200, batch_size=16,\n",
        "                                            shuffle=True, validation_data=(features_val, labels_val),\n",
        "                                            callbacks=[early_stopping_callback])\n",
        "#CNN3D_model_training_history = CNN3D_model.fit(x=features_train, y=labels_train, epochs=50, batch_size=8,\n",
        "                                            #shuffle=True, validation_data=(features_val, labels_val))\n",
        "\n"
      ]
    },
    {
      "cell_type": "markdown",
      "metadata": {
        "id": "LeWBls5SsY2D"
      },
      "source": [
        "Model Evaluation"
      ]
    },
    {
      "cell_type": "code",
      "execution_count": null,
      "metadata": {
        "id": "KWKdfXNfsWfH",
        "colab": {
          "base_uri": "https://localhost:8080/"
        },
        "outputId": "d3751c53-4eec-4dc8-c8a8-075a84e1f462"
      },
      "outputs": [
        {
          "output_type": "stream",
          "name": "stdout",
          "text": [
            "3/3 [==============================] - 0s 21ms/step - loss: 0.3176 - accuracy: 0.9359\n",
            "Execution time: 101.29 seconds\n"
          ]
        }
      ],
      "source": [
        "# Evaluate the trained model.\n",
        "model_evaluation_history = CNN3D_model.evaluate(features_test, labels_test)\n",
        "# Record the end time\n",
        "end_time = time.time()\n",
        "# Calculate and print the execution time\n",
        "execution_time = end_time - start_time\n",
        "print(f\"Execution time: {execution_time:.2f} seconds\")"
      ]
    },
    {
      "cell_type": "code",
      "source": [
        "# Get the loss and accuracy from model_evaluation_history.\n",
        "model_evaluation_loss, model_evaluation_accuracy = model_evaluation_history\n",
        "\n",
        "# Define the string date format.\n",
        "# Get the current Date and Time in a DateTime Object.\n",
        "# Convert the DateTime object to string according to the style mentioned in date_time_format string.\n",
        "date_time_format = '%Y_%m_%d__%H_%M_%S'\n",
        "current_date_time_dt = dt.datetime.now()\n",
        "current_date_time_string = dt.datetime.strftime(current_date_time_dt, date_time_format)\n",
        "\n",
        "# Define a useful name for our model to make it easy for us while navigating through multiple saved models.\n",
        "#model_file_name = f'CNN3D_model___Date_Time_{current_date_time_string}___Loss_{model_evaluation_loss}___Accuracy_{model_evaluation_accuracy}.h5'\n",
        "model_file_name='/content/drive/MyDrive/ProjectResearchMsc/Model/CNN3D_slidingWindow_l2_0.08.h5'\n",
        "# Save the Model.\n",
        "CNN3D_model.save(model_file_name)"
      ],
      "metadata": {
        "id": "B_DVqzbI0nPB"
      },
      "execution_count": null,
      "outputs": []
    },
    {
      "cell_type": "code",
      "source": [
        "import matplotlib.pyplot as plt\n",
        "\n",
        "# Assuming you have the training history stored in the variable 'CNN3D_model_training_history'\n",
        "train_loss = CNN3D_model_training_history.history['loss']\n",
        "val_loss = CNN3D_model_training_history.history['val_loss']\n",
        "epochs = range(1, len(train_loss) + 1)\n",
        "\n",
        "# Plot the training and validation loss\n",
        "plt.plot(epochs, train_loss, 'b', label='Training Loss')\n",
        "plt.plot(epochs, val_loss, 'r', label='Validation Loss')\n",
        "plt.xlabel('Epochs')\n",
        "plt.ylabel('Loss')\n",
        "plt.title('Training and Validation Loss')\n",
        "plt.legend()\n",
        "plt.show()\n"
      ],
      "metadata": {
        "id": "4mf1gubI_V2R",
        "colab": {
          "base_uri": "https://localhost:8080/",
          "height": 472
        },
        "outputId": "04288e99-6bef-40b3-af87-c6a542d1b068"
      },
      "execution_count": null,
      "outputs": [
        {
          "output_type": "display_data",
          "data": {
            "text/plain": [
              "<Figure size 640x480 with 1 Axes>"
            ],
            "image/png": "[encoded data removed]"
          },
          "metadata": {}
        }
      ]
    },
    {
      "cell_type": "code",
      "source": [
        "train_accuracy = CNN3D_model_training_history.history['accuracy']\n",
        "val_accuracy = CNN3D_model_training_history.history['val_accuracy']\n",
        "epochs = range(1, len(train_accuracy) + 1)\n",
        "\n",
        "# Plot the training and validation accuracy\n",
        "plt.plot(epochs, train_accuracy, 'b', label='Training Accuracy')\n",
        "plt.plot(epochs, val_accuracy, 'r', label='Validation Accuracy')\n",
        "plt.xlabel('Epochs')\n",
        "plt.ylabel('Accuracy')\n",
        "plt.title('Training and Validation Accuracy')\n",
        "plt.legend()\n",
        "plt.show()"
      ],
      "metadata": {
        "id": "j1wWPdMaAXUb",
        "colab": {
          "base_uri": "https://localhost:8080/",
          "height": 472
        },
        "outputId": "96b35f7f-cd8d-462b-be7b-8f01a8784aa3"
      },
      "execution_count": null,
      "outputs": [
        {
          "output_type": "display_data",
          "data": {
            "text/plain": [
              "<Figure size 640x480 with 1 Axes>"
            ],
            "image/png": "[encoded data removed]"
          },
          "metadata": {}
        }
      ]
    },
    {
      "cell_type": "code",
      "source": [
        "import numpy as np\n",
        "import matplotlib.pyplot as plt\n",
        "from sklearn.metrics import confusion_matrix\n",
        "from sklearn.metrics import ConfusionMatrixDisplay\n",
        "\n",
        "# Evaluate your model on the test data and get the predicted labels\n",
        "predicted_labels = CNN3D_model.predict(features_test)\n",
        "predicted_labels = np.argmax(predicted_labels, axis=1)  # Convert one-hot encoded predictions to class indices\n",
        "\n",
        "# Get the true labels (assuming you already have them)\n",
        "true_labels = np.argmax(labels_test, axis=1)  # Convert one-hot encoded true labels to class indices\n",
        "\n",
        "# Compute the confusion matrix\n",
        "conf_matrix = confusion_matrix(true_labels, predicted_labels)\n",
        "\n",
        "# Calculate the row sums (total samples per class)\n",
        "row_sums = conf_matrix.sum(axis=1, keepdims=True)\n",
        "\n",
        "# Normalize the confusion matrix to percentages\n",
        "conf_matrix_percent = conf_matrix / row_sums\n",
        "\n",
        "# Plot the confusion matrix with percentages\n",
        "class_names = CLASSES_LIST  # Replace with your class names\n",
        "fig, ax = plt.subplots(figsize=(10, 10))  # Adjust the figure size\n",
        "disp = ConfusionMatrixDisplay(confusion_matrix=conf_matrix_percent, display_labels=class_names)\n",
        "disp.plot(cmap=plt.cm.Blues, values_format=\".2f\", ax=ax)  # Use \".2f\" to format percentages with two decimal places\n",
        "plt.xticks(rotation=45)  # Rotate x-axis labels for better readability\n",
        "plt.title(\"Confusion Matrix (Percentages) 3DCNN_dropout_L2\")\n",
        "\n",
        "# Adjust font size for better readability of numbers\n",
        "for text in disp.text_.ravel():\n",
        "    text.set_fontsize(12)\n",
        "\n",
        "plt.show()\n"
      ],
      "metadata": {
        "id": "c5PpmW3SijWT",
        "colab": {
          "base_uri": "https://localhost:8080/",
          "height": 839
        },
        "outputId": "2c70e354-0af6-4e12-9aff-ee296d9a12a9"
      },
      "execution_count": null,
      "outputs": [
        {
          "output_type": "stream",
          "name": "stdout",
          "text": [
            "3/3 [==============================] - 0s 19ms/step\n"
          ]
        },
        {
          "output_type": "display_data",
          "data": {
            "text/plain": [
              "<Figure size 1000x1000 with 2 Axes>"
            ],
            "image/png": "[encoded data removed]"
          },
          "metadata": {}
        }
      ]
    },
    {
      "cell_type": "code",
      "source": [
        "# the true labels for the training data stored in 'labels_train'\n",
        "\n",
        "# Use the trained model to predict the labels for the training data\n",
        "predicted_labels_train = CNN3D_model.predict(features_train)\n",
        "\n",
        "# Convert the predicted labels to one-hot-encoded format\n",
        "predicted_labels_train_onehot = np.argmax(predicted_labels_train, axis=1)\n",
        "\n",
        "# Print the shape of the predicted_labels_train_onehot array (optional, for verification)\n",
        "print(\"Shape of predicted_labels_train_onehot:\", predicted_labels_train_onehot.shape)\n",
        "\n",
        "# Now, you can proceed to calculate and print the classification report for the training data\n",
        "from sklearn.metrics import classification_report\n",
        "\n",
        "# Get the classification report for the training data\n",
        "classification_report_train = classification_report(labels_train.argmax(axis=1), predicted_labels_train_onehot, target_names=CLASSES_LIST)\n",
        "\n",
        "# Print the classification report\n",
        "print(\"[INFO] evaluation testing for training data ...\\n\", classification_report_train)\n",
        "\n",
        "# Get the classification report for the validation data\n",
        "print(\"[INFO] evaluation testing for validation data ...\")\n",
        "predictions_val = CNN3D_model.predict(features_val, batch_size=2)  # Change 'batch_size' to the desired value\n",
        "classification_report_val = classification_report(labels_val.argmax(axis=1), predictions_val.argmax(axis=1), target_names=CLASSES_LIST)\n",
        "\n",
        "# Print the classification report for validation data\n",
        "print(classification_report_val)\n",
        "\n",
        "# Get the classification report for the test data\n",
        "print(\"[INFO] evaluation testing for test data ...\")\n",
        "predictions_test = CNN3D_model.predict(features_test, batch_size=2)  # Change 'batch_size' to the desired value\n",
        "classification_report_test = classification_report(labels_test.argmax(axis=1), predictions_test.argmax(axis=1), target_names=CLASSES_LIST)\n",
        "\n",
        "# Print the classification report for test data\n",
        "print(classification_report_test)\n"
      ],
      "metadata": {
        "id": "DAMmRYNrBFmo",
        "colab": {
          "base_uri": "https://localhost:8080/"
        },
        "outputId": "a0d4ca3a-1f56-4bd4-e47e-38772544659c"
      },
      "execution_count": null,
      "outputs": [
        {
          "output_type": "stream",
          "name": "stdout",
          "text": [
            "15/15 [==============================] - 1s 37ms/step\n",
            "Shape of predicted_labels_train_onehot: (467,)\n",
            "[INFO] evaluation testing for training data ...\n",
            "               precision    recall  f1-score   support\n",
            "\n",
            "        deaf       1.00      1.00      1.00        59\n",
            "        help       1.00      1.00      1.00        32\n",
            "          no       1.00      1.00      1.00        59\n",
            "        thin       1.00      1.00      1.00        36\n",
            "        walk       1.00      1.00      1.00        74\n",
            "         yes       1.00      1.00      1.00        39\n",
            "      finish       1.00      1.00      1.00        44\n",
            "         hot       1.00      1.00      1.00        45\n",
            "        many       1.00      1.00      1.00        51\n",
            "         bad       1.00      1.00      1.00        28\n",
            "\n",
            "    accuracy                           1.00       467\n",
            "   macro avg       1.00      1.00      1.00       467\n",
            "weighted avg       1.00      1.00      1.00       467\n",
            "\n",
            "[INFO] evaluation testing for validation data ...\n",
            "39/39 [==============================] - 0s 3ms/step\n",
            "              precision    recall  f1-score   support\n",
            "\n",
            "        deaf       1.00      0.85      0.92        13\n",
            "        help       1.00      1.00      1.00         7\n",
            "          no       1.00      1.00      1.00         9\n",
            "        thin       1.00      1.00      1.00        10\n",
            "        walk       1.00      1.00      1.00        11\n",
            "         yes       0.86      1.00      0.92         6\n",
            "      finish       1.00      0.80      0.89         5\n",
            "         hot       1.00      0.75      0.86         4\n",
            "        many       0.91      1.00      0.95        10\n",
            "         bad       0.60      1.00      0.75         3\n",
            "\n",
            "    accuracy                           0.95        78\n",
            "   macro avg       0.94      0.94      0.93        78\n",
            "weighted avg       0.96      0.95      0.95        78\n",
            "\n",
            "[INFO] evaluation testing for test data ...\n",
            "39/39 [==============================] - 0s 3ms/step\n",
            "              precision    recall  f1-score   support\n",
            "\n",
            "        deaf       1.00      1.00      1.00        10\n",
            "        help       1.00      0.75      0.86         4\n",
            "          no       1.00      1.00      1.00         4\n",
            "        thin       0.92      0.85      0.88        13\n",
            "        walk       1.00      1.00      1.00        10\n",
            "         yes       0.75      1.00      0.86         6\n",
            "      finish       1.00      1.00      1.00         5\n",
            "         hot       1.00      0.88      0.93         8\n",
            "        many       0.93      0.93      0.93        14\n",
            "         bad       0.80      1.00      0.89         4\n",
            "\n",
            "    accuracy                           0.94        78\n",
            "   macro avg       0.94      0.94      0.93        78\n",
            "weighted avg       0.94      0.94      0.94        78\n",
            "\n"
          ]
        }
      ]
    },
    {
      "cell_type": "markdown",
      "source": [
        "Test with test Video"
      ],
      "metadata": {
        "id": "KLlgKSBdsIu-"
      }
    },
    {
      "cell_type": "code",
      "source": [
        "!pip install streamlit"
      ],
      "metadata": {
        "colab": {
          "base_uri": "https://localhost:8080/"
        },
        "id": "U2IXGeAPBLdI",
        "outputId": "9557bdb1-5d37-45a9-d5ba-471f43f422a5"
      },
      "execution_count": null,
      "outputs": [
        {
          "output_type": "stream",
          "name": "stdout",
          "text": [
            "Collecting streamlit\n",
            "  Downloading streamlit-1.26.0-py2.py3-none-any.whl (8.1 MB)\n",
            "\u001b[2K     \u001b[90m━━━━━━━━━━━━━━━━━━━━━━━━━━━━━━━━━━━━━━━━\u001b[0m \u001b[32m8.1/8.1 MB\u001b[0m \u001b[31m60.8 MB/s\u001b[0m eta \u001b[36m0:00:00\u001b[0m\n",
            "\u001b[?25hRequirement already satisfied: altair<6,>=4.0 in /usr/local/lib/python3.10/dist-packages (from streamlit) (4.2.2)\n",
            "Requirement already satisfied: blinker<2,>=1.0.0 in /usr/lib/python3/dist-packages (from streamlit) (1.4)\n",
            "Requirement already satisfied: cachetools<6,>=4.0 in /usr/local/lib/python3.10/dist-packages (from streamlit) (5.3.1)\n",
            "Requirement already satisfied: click<9,>=7.0 in /usr/local/lib/python3.10/dist-packages (from streamlit) (8.1.7)\n",
            "Requirement already satisfied: importlib-metadata<7,>=1.4 in /usr/local/lib/python3.10/dist-packages (from streamlit) (6.8.0)\n",
            "Requirement already satisfied: numpy<2,>=1.19.3 in /usr/local/lib/python3.10/dist-packages (from streamlit) (1.23.5)\n",
            "Requirement already satisfied: packaging<24,>=16.8 in /usr/local/lib/python3.10/dist-packages (from streamlit) (23.1)\n",
            "Requirement already satisfied: pandas<3,>=1.3.0 in /usr/local/lib/python3.10/dist-packages (from streamlit) (1.5.3)\n",
            "Requirement already satisfied: pillow<10,>=7.1.0 in /usr/local/lib/python3.10/dist-packages (from streamlit) (9.4.0)\n",
            "Requirement already satisfied: protobuf<5,>=3.20 in /usr/local/lib/python3.10/dist-packages (from streamlit) (3.20.3)\n",
            "Requirement already satisfied: pyarrow>=6.0 in /usr/local/lib/python3.10/dist-packages (from streamlit) (9.0.0)\n",
            "Collecting pympler<2,>=0.9 (from streamlit)\n",
            "  Downloading Pympler-1.0.1-py3-none-any.whl (164 kB)\n",
            "\u001b[2K     \u001b[90m━━━━━━━━━━━━━━━━━━━━━━━━━━━━━━━━━━━━━━\u001b[0m \u001b[32m164.8/164.8 kB\u001b[0m \u001b[31m19.8 MB/s\u001b[0m eta \u001b[36m0:00:00\u001b[0m\n",
            "\u001b[?25hRequirement already satisfied: python-dateutil<3,>=2.7.3 in /usr/local/lib/python3.10/dist-packages (from streamlit) (2.8.2)\n",
            "Requirement already satisfied: requests<3,>=2.18 in /usr/local/lib/python3.10/dist-packages (from streamlit) (2.31.0)\n",
            "Requirement already satisfied: rich<14,>=10.14.0 in /usr/local/lib/python3.10/dist-packages (from streamlit) (13.5.2)\n",
            "Requirement already satisfied: tenacity<9,>=8.1.0 in /usr/local/lib/python3.10/dist-packages (from streamlit) (8.2.3)\n",
            "Requirement already satisfied: toml<2,>=0.10.1 in /usr/local/lib/python3.10/dist-packages (from streamlit) (0.10.2)\n",
            "Requirement already satisfied: typing-extensions<5,>=4.1.0 in /usr/local/lib/python3.10/dist-packages (from streamlit) (4.7.1)\n",
            "Collecting tzlocal<5,>=1.1 (from streamlit)\n",
            "  Downloading tzlocal-4.3.1-py3-none-any.whl (20 kB)\n",
            "Collecting validators<1,>=0.2 (from streamlit)\n",
            "  Downloading validators-0.22.0-py3-none-any.whl (26 kB)\n",
            "Collecting gitpython!=3.1.19,<4,>=3.0.7 (from streamlit)\n",
            "  Downloading GitPython-3.1.34-py3-none-any.whl (188 kB)\n",
            "\u001b[2K     \u001b[90m━━━━━━━━━━━━━━━━━━━━━━━━━━━━━━━━━━━━━━\u001b[0m \u001b[32m188.6/188.6 kB\u001b[0m \u001b[31m22.5 MB/s\u001b[0m eta \u001b[36m0:00:00\u001b[0m\n",
            "\u001b[?25hCollecting pydeck<1,>=0.8 (from streamlit)\n",
            "  Downloading pydeck-0.8.0-py2.py3-none-any.whl (4.7 MB)\n",
            "\u001b[2K     \u001b[90m━━━━━━━━━━━━━━━━━━━━━━━━━━━━━━━━━━━━━━━━\u001b[0m \u001b[32m4.7/4.7 MB\u001b[0m \u001b[31m112.0 MB/s\u001b[0m eta \u001b[36m0:00:00\u001b[0m\n",
            "\u001b[?25hRequirement already satisfied: tornado<7,>=6.0.3 in /usr/local/lib/python3.10/dist-packages (from streamlit) (6.3.2)\n",
            "Collecting watchdog>=2.1.5 (from streamlit)\n",
            "  Downloading watchdog-3.0.0-py3-none-manylinux2014_x86_64.whl (82 kB)\n",
            "\u001b[2K     \u001b[90m━━━━━━━━━━━━━━━━━━━━━━━━━━━━━━━━━━━━━━━━\u001b[0m \u001b[32m82.1/82.1 kB\u001b[0m \u001b[31m10.6 MB/s\u001b[0m eta \u001b[36m0:00:00\u001b[0m\n",
            "\u001b[?25hRequirement already satisfied: entrypoints in /usr/local/lib/python3.10/dist-packages (from altair<6,>=4.0->streamlit) (0.4)\n",
            "Requirement already satisfied: jinja2 in /usr/local/lib/python3.10/dist-packages (from altair<6,>=4.0->streamlit) (3.1.2)\n",
            "Requirement already satisfied: jsonschema>=3.0 in /usr/local/lib/python3.10/dist-packages (from altair<6,>=4.0->streamlit) (4.19.0)\n",
            "Requirement already satisfied: toolz in /usr/local/lib/python3.10/dist-packages (from altair<6,>=4.0->streamlit) (0.12.0)\n",
            "Collecting gitdb<5,>=4.0.1 (from gitpython!=3.1.19,<4,>=3.0.7->streamlit)\n",
            "  Downloading gitdb-4.0.10-py3-none-any.whl (62 kB)\n",
            "\u001b[2K     \u001b[90m━━━━━━━━━━━━━━━━━━━━━━━━━━━━━━━━━━━━━━━━\u001b[0m \u001b[32m62.7/62.7 kB\u001b[0m \u001b[31m8.3 MB/s\u001b[0m eta \u001b[36m0:00:00\u001b[0m\n",
            "\u001b[?25hRequirement already satisfied: zipp>=0.5 in /usr/local/lib/python3.10/dist-packages (from importlib-metadata<7,>=1.4->streamlit) (3.16.2)\n",
            "Requirement already satisfied: pytz>=2020.1 in /usr/local/lib/python3.10/dist-packages (from pandas<3,>=1.3.0->streamlit) (2023.3)\n",
            "Requirement already satisfied: six>=1.5 in /usr/local/lib/python3.10/dist-packages (from python-dateutil<3,>=2.7.3->streamlit) (1.16.0)\n",
            "Requirement already satisfied: charset-normalizer<4,>=2 in /usr/local/lib/python3.10/dist-packages (from requests<3,>=2.18->streamlit) (3.2.0)\n",
            "Requirement already satisfied: idna<4,>=2.5 in /usr/local/lib/python3.10/dist-packages (from requests<3,>=2.18->streamlit) (3.4)\n",
            "Requirement already satisfied: urllib3<3,>=1.21.1 in /usr/local/lib/python3.10/dist-packages (from requests<3,>=2.18->streamlit) (2.0.4)\n",
            "Requirement already satisfied: certifi>=2017.4.17 in /usr/local/lib/python3.10/dist-packages (from requests<3,>=2.18->streamlit) (2023.7.22)\n",
            "Requirement already satisfied: markdown-it-py>=2.2.0 in /usr/local/lib/python3.10/dist-packages (from rich<14,>=10.14.0->streamlit) (3.0.0)\n",
            "Requirement already satisfied: pygments<3.0.0,>=2.13.0 in /usr/local/lib/python3.10/dist-packages (from rich<14,>=10.14.0->streamlit) (2.16.1)\n",
            "Collecting pytz-deprecation-shim (from tzlocal<5,>=1.1->streamlit)\n",
            "  Downloading pytz_deprecation_shim-0.1.0.post0-py2.py3-none-any.whl (15 kB)\n",
            "Collecting smmap<6,>=3.0.1 (from gitdb<5,>=4.0.1->gitpython!=3.1.19,<4,>=3.0.7->streamlit)\n",
            "  Downloading smmap-5.0.0-py3-none-any.whl (24 kB)\n",
            "Requirement already satisfied: MarkupSafe>=2.0 in /usr/local/lib/python3.10/dist-packages (from jinja2->altair<6,>=4.0->streamlit) (2.1.3)\n",
            "Requirement already satisfied: attrs>=22.2.0 in /usr/local/lib/python3.10/dist-packages (from jsonschema>=3.0->altair<6,>=4.0->streamlit) (23.1.0)\n",
            "Requirement already satisfied: jsonschema-specifications>=2023.03.6 in /usr/local/lib/python3.10/dist-packages (from jsonschema>=3.0->altair<6,>=4.0->streamlit) (2023.7.1)\n",
            "Requirement already satisfied: referencing>=0.28.4 in /usr/local/lib/python3.10/dist-packages (from jsonschema>=3.0->altair<6,>=4.0->streamlit) (0.30.2)\n",
            "Requirement already satisfied: rpds-py>=0.7.1 in /usr/local/lib/python3.10/dist-packages (from jsonschema>=3.0->altair<6,>=4.0->streamlit) (0.9.2)\n",
            "Requirement already satisfied: mdurl~=0.1 in /usr/local/lib/python3.10/dist-packages (from markdown-it-py>=2.2.0->rich<14,>=10.14.0->streamlit) (0.1.2)\n",
            "Collecting tzdata (from pytz-deprecation-shim->tzlocal<5,>=1.1->streamlit)\n",
            "  Downloading tzdata-2023.3-py2.py3-none-any.whl (341 kB)\n",
            "\u001b[2K     \u001b[90m━━━━━━━━━━━━━━━━━━━━━━━━━━━━━━━━━━━━━━\u001b[0m \u001b[32m341.8/341.8 kB\u001b[0m \u001b[31m38.1 MB/s\u001b[0m eta \u001b[36m0:00:00\u001b[0m\n",
            "\u001b[?25hInstalling collected packages: watchdog, validators, tzdata, smmap, pympler, pytz-deprecation-shim, pydeck, gitdb, tzlocal, gitpython, streamlit\n",
            "  Attempting uninstall: tzlocal\n",
            "    Found existing installation: tzlocal 5.0.1\n",
            "    Uninstalling tzlocal-5.0.1:\n",
            "      Successfully uninstalled tzlocal-5.0.1\n",
            "Successfully installed gitdb-4.0.10 gitpython-3.1.34 pydeck-0.8.0 pympler-1.0.1 pytz-deprecation-shim-0.1.0.post0 smmap-5.0.0 streamlit-1.26.0 tzdata-2023.3 tzlocal-4.3.1 validators-0.22.0 watchdog-3.0.0\n"
          ]
        }
      ]
    },
    {
      "cell_type": "code",
      "source": [
        "import streamlit as st\n",
        "import numpy as np\n",
        "from tensorflow.keras.models import load_model\n",
        "import cv2\n",
        "import tempfile\n",
        "import os\n",
        "from collections import Counter\n",
        "\n",
        "# Load your pre-trained model and perform other operations\n",
        "CNN3D_model = load_model('/content/drive/MyDrive/ProjectResearchMsc/Model/CNN3D_slidingWindow_l2.h5')\n",
        "CNN3D_model.compile(loss='categorical_crossentropy', optimizer='adam', metrics=['accuracy'], run_eagerly=True)\n",
        "CLASSES_LIST = [\"deaf\", \"help\", \"no\", \"thin\",\"walk\",\"yes\",\"finish\",\"hot\",\"many\",\"bad\"]\n",
        "\n",
        "st.title('Sign Language Classification Using Machine Learning')\n",
        "\n",
        "# Use Streamlit's file_uploader to allow users to upload a video\n",
        "video_path = st.file_uploader(\"Upload a video\", type=[\"mp4\", \"MOV\"])\n",
        "\n",
        "if video_path is not None:\n",
        "    st.write(\"Processing video...\")\n",
        "    st.video(video_path)\n",
        "\n",
        "    # Create a temporary directory to store the uploaded video\n",
        "    temp_dir = tempfile.mkdtemp()\n",
        "    temp_video_path = os.path.join(temp_dir, \"temp_video.mp4\")\n",
        "\n",
        "    # Write the uploaded video to the temporary directory\n",
        "    with open(temp_video_path, \"wb\") as temp_video_file:\n",
        "        temp_video_file.write(video_path.read())\n",
        "\n",
        "    # Initialize an empty list to store video frames\n",
        "    video_frames = []\n",
        "\n",
        "    # Open the uploaded video file using OpenCV\n",
        "    cap = cv2.VideoCapture(temp_video_path)\n",
        "\n",
        "    while True:\n",
        "        ret, frame = cap.read()\n",
        "        if not ret:\n",
        "            break\n",
        "\n",
        "        # Resize frame to match model's input shape (64x64)\n",
        "        frame = cv2.resize(frame, (64, 64))\n",
        "\n",
        "        video_frames.append(frame)\n",
        "\n",
        "    cap.release()\n",
        "\n",
        "    # Normalize pixel values\n",
        "    video_frames = np.array(video_frames) / 255.0\n",
        "\n",
        "    # Organize frames into sequences with length 50\n",
        "    sequence_length = 50\n",
        "    num_frames = len(video_frames)\n",
        "\n",
        "    sequences = []\n",
        "    for i in range(0, num_frames - sequence_length + 1, sequence_length):\n",
        "        sequence = video_frames[i:i + sequence_length]\n",
        "        sequences.append(sequence)\n",
        "\n",
        "    sequences = np.array(sequences)\n",
        "\n",
        "    predictions = CNN3D_model.predict(sequences)\n",
        "\n",
        "    # Assuming predictions contain class probabilities\n",
        "    predicted_class_indices = np.argmax(predictions, axis=-1)\n",
        "    predicted_labels = [CLASSES_LIST[i] for i in predicted_class_indices]\n",
        "\n",
        "    # Count the occurrences of each label\n",
        "    label_counts = Counter(predicted_labels)\n",
        "\n",
        "    # Calculate the percentage of each label\n",
        "    total_labels = len(predicted_labels)\n",
        "    label_percentages = {label: count / total_labels * 100 for label, count in label_counts.items()}\n",
        "\n",
        "    # Find the most frequent label\n",
        "    most_frequent_label = max(label_percentages, key=label_percentages.get)\n",
        "\n",
        "    st.write(\"Predicted Output:\", most_frequent_label)\n",
        "    st.write(\"Predicted Labels and Percentages:\")\n",
        "    for label, percentage in label_percentages.items():\n",
        "        st.write(f\"{label}: {percentage:.2f}%\")\n",
        "\n",
        "    # Display the video using OpenCV's cv2_imshow\n",
        "    for frame in video_frames:\n",
        "        cv2.imshow(\"Video\", frame)\n",
        "        cv2.waitKey(30)  # Adjust the delay (in milliseconds) between frames\n",
        "\n",
        "    cv2.destroyAllWindows()\n",
        "\n",
        "    # Cleanup temporary directory and video file\n",
        "    os.remove(temp_video_path)\n",
        "    os.rmdir(temp_dir)\n"
      ],
      "metadata": {
        "colab": {
          "base_uri": "https://localhost:8080/"
        },
        "id": "Nn-fDrzK_weE",
        "outputId": "78efda26-7f7f-431c-c30d-175ce731d12b"
      },
      "execution_count": null,
      "outputs": [
        {
          "output_type": "stream",
          "name": "stderr",
          "text": [
            "2023-09-07 00:22:53.873 \n",
            "  \u001b[33m\u001b[1mWarning:\u001b[0m to view this Streamlit app on a browser, run it with the following\n",
            "  command:\n",
            "\n",
            "    streamlit run /usr/local/lib/python3.10/dist-packages/ipykernel_launcher.py [ARGUMENTS]\n"
          ]
        }
      ]
    },
    {
      "cell_type": "code",
      "source": [
        "!streamlit run /usr/local/lib/python3.10/dist-packages/ipykernel_launcher.py"
      ],
      "metadata": {
        "colab": {
          "base_uri": "https://localhost:8080/"
        },
        "id": "_YL_pirrBZna",
        "outputId": "af787a4d-5e22-48ba-dde8-a2f8c3fb1a3c"
      },
      "execution_count": null,
      "outputs": [
        {
          "output_type": "stream",
          "name": "stdout",
          "text": [
            "\n",
            "Collecting usage statistics. To deactivate, set browser.gatherUsageStats to False.\n",
            "\u001b[0m\n",
            "\u001b[0m\n",
            "\u001b[34m\u001b[1m  You can now view your Streamlit app in your browser.\u001b[0m\n",
            "\u001b[0m\n",
            "\u001b[34m  Network URL: \u001b[0m\u001b[1mhttp://172.28.0.12:8501\u001b[0m\n",
            "\u001b[34m  External URL: \u001b[0m\u001b[1mhttp://34.126.86.221:8501\u001b[0m\n",
            "\u001b[0m\n",
            "\u001b[34m  Stopping...\u001b[0m\n",
            "\u001b[34m  Stopping...\u001b[0m\n"
          ]
        }
      ]
    }
  ],
  "metadata": {
    "colab": {
      "provenance": [],
      "gpuType": "A100",
      "mount_file_id": "1gm5woa9NrRl8D2OmRzTusP6CvBlaQH9O",
      "authorship_tag": "ABX9TyOwSDjypAm7fOXTjpNzl+Hu",
      "include_colab_link": true
    },
    "kernelspec": {
      "display_name": "Python 3",
      "name": "python3"
    },
    "language_info": {
      "name": "python"
    },
    "accelerator": "GPU"
  },
  "nbformat": 4,
  "nbformat_minor": 0
}