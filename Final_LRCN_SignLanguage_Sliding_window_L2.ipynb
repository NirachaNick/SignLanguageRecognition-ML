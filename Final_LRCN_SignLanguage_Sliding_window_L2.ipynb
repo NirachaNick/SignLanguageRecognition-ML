{
  "cells": [
    {
      "cell_type": "markdown",
      "metadata": {
        "id": "view-in-github",
        "colab_type": "text"
      },
      "source": [
        "<a href=\"https://colab.research.google.com/github/NirachaNick/SignLanguageRecognition-ML/blob/main/Final_LRCN_SignLanguage_Sliding_window_L2.ipynb\" target=\"_parent\"><img src=\"https://colab.research.google.com/assets/colab-badge.svg\" alt=\"Open In Colab\"/></a>"
      ]
    },
    {
      "cell_type": "code",
      "execution_count": null,
      "metadata": {
        "id": "SdnG4fBDP8JT"
      },
      "outputs": [],
      "source": [
        "# Import the required libraries.\n",
        "import os\n",
        "import cv2\n",
        "import math\n",
        "import random\n",
        "import numpy as np\n",
        "import datetime as dt\n",
        "import tensorflow as tf\n",
        "from collections import deque\n",
        "import matplotlib.pyplot as plt\n",
        "\n",
        "from moviepy.editor import *\n",
        "%matplotlib inline\n",
        "\n",
        "from sklearn.model_selection import train_test_split\n",
        "\n",
        "from tensorflow.keras.layers import *\n",
        "from tensorflow.keras.models import Sequential\n",
        "from tensorflow.keras.utils import to_categorical\n",
        "from tensorflow.keras.callbacks import EarlyStopping\n",
        "from tensorflow.keras.utils import plot_model"
      ]
    },
    {
      "cell_type": "code",
      "execution_count": null,
      "metadata": {
        "id": "ykOqqlz8QaY3"
      },
      "outputs": [],
      "source": [
        "seed_constant = 27\n",
        "np.random.seed(seed_constant)\n",
        "random.seed(seed_constant)\n",
        "tf.random.set_seed(seed_constant)"
      ]
    },
    {
      "cell_type": "markdown",
      "metadata": {
        "id": "K8ykp9n_Qfyr"
      },
      "source": [
        "Data Visualization"
      ]
    },
    {
      "cell_type": "code",
      "execution_count": null,
      "metadata": {
        "id": "vyJrYngCQn-b"
      },
      "outputs": [],
      "source": [
        "\n",
        "# Get the names of all classes/categories in train_videos\n",
        "all_classes_names = os.listdir('/content/drive/MyDrive/ProjectResearchMsc/Train_videos/train_video-complete')\n",
        "\n",
        "#print(\"List of all classes/categories in train_videos:\")\n",
        "#print(all_classes_names)\n",
        "\n",
        "# Generate a list of 20 random values. The values will be between 0-50,\n",
        "# where 50 is the total number of class in the dataset.\n",
        "#random_range = random.sample(range(len(all_classes_names)), 10)\n",
        "\n",
        "# Iterating through all the generated random values.\n",
        "#for counter, random_index in enumerate(random_range, 1):\n",
        "\n",
        "    # Retrieve a Class Name using the Random Index.\n",
        "    #selected_class_Name = all_classes_names[random_index]\n",
        "\n",
        "    # Retrieve the list of all the video files present in the randomly selected Class Directory.\n",
        "    #video_files_names_list = os.listdir(f'/content/drive/MyDrive/ProjectResearchMsc/Train_videos/train_video-complete/{selected_class_Name}')\n",
        "\n",
        "    # Randomly select a video file from the list retrieved from the randomly selected Class Directory.\n",
        "    #selected_video_file_name = random.choice(video_files_names_list)\n",
        "\n",
        "    # Initialize a VideoCapture object to read from the video File.\n",
        "    #video_reader = cv2.VideoCapture(f'/content/drive/MyDrive/ProjectResearchMsc/Train_videos/train_video-complete/{selected_class_Name}/{selected_video_file_name}')\n",
        "\n",
        "    # Read the first frame of the video file.\n",
        "    #_, bgr_frame = video_reader.read()\n",
        "\n",
        "    # Release the VideoCapture object.\n",
        "    #video_reader.release()\n",
        "\n",
        "    # Convert the frame from BGR into RGB format.\n",
        "    #rgb_frame = cv2.cvtColor(bgr_frame, cv2.COLOR_BGR2RGB)\n",
        "\n",
        "    # Write the class name on the video frame.\n",
        "    #cv2.putText(rgb_frame, selected_class_Name, (10, 30), cv2.FONT_HERSHEY_SIMPLEX, 1, (0, 0, 255), 2)\n",
        "\n",
        "    # Display the frame.\n",
        "    #plt.subplot(5, 4, counter)\n",
        "    #plt.imshow(rgb_frame)\n",
        "    #plt.axis('off')\n",
        "\n",
        "# Display all the frames.\n",
        "#plt.show()\n"
      ]
    },
    {
      "cell_type": "code",
      "source": [
        "\n",
        "# Specify the height and width to which each video frame will be resized in our dataset.\n",
        "IMAGE_HEIGHT, IMAGE_WIDTH = 64, 64\n",
        "\n",
        "# Specify the number of frames of a video that will be fed to the model as one sequence.\n",
        "SEQUENCE_LENGTH = 50\n",
        "\n",
        "# Specify the stride for the sliding window\n",
        "STRIDE = 5\n",
        "\n",
        "# Specify the directory containing the UCF50 dataset.\n",
        "DATASET_DIR = \"/content/drive/MyDrive/ProjectResearchMsc/Train_videos/train_video-complete\"\n",
        "\n",
        "# Specify the list containing the names of the classes used for training.\n",
        "CLASSES_LIST = [\"deaf\", \"help\", \"no\", \"thin\",\"walk\",\"yes\",\"finish\",\"hot\",\"many\",\"bad\"]\n",
        "\n",
        "def frames_extraction(video_file_path):\n",
        "    video_reader = cv2.VideoCapture(video_file_path)\n",
        "    frames = []\n",
        "\n",
        "    while True:\n",
        "        success, frame = video_reader.read()\n",
        "        if not success:\n",
        "            break\n",
        "\n",
        "        # Resize and normalize the frame\n",
        "        resized_frame = cv2.resize(frame, (IMAGE_HEIGHT, IMAGE_WIDTH))\n",
        "        normalized_frame = resized_frame / 255.0\n",
        "\n",
        "        frames.append(normalized_frame)\n",
        "\n",
        "    video_reader.release()\n",
        "    return frames\n",
        "\n",
        "def sliding_window(sequence, window_size, stride):\n",
        "    num_samples = (len(sequence) - window_size) // stride + 1\n",
        "    sub_sequences = [sequence[i:i + window_size] for i in range(0, num_samples * stride, stride)]\n",
        "    return np.array(sub_sequences)\n",
        "\n",
        "def create_dataset():\n",
        "    features = []\n",
        "    labels = []\n",
        "    video_files_paths = []\n",
        "\n",
        "    for class_index, class_name in enumerate(CLASSES_LIST):\n",
        "        print(f'Extracting Data of Class: {class_name}')\n",
        "\n",
        "        files_list = os.listdir(os.path.join(DATASET_DIR, class_name))\n",
        "\n",
        "        for file_name in files_list:\n",
        "            video_file_path = os.path.join(DATASET_DIR, class_name, file_name)\n",
        "\n",
        "            video_frames = frames_extraction(video_file_path)\n",
        "\n",
        "            if len(video_frames) >= SEQUENCE_LENGTH:\n",
        "                sub_sequences = sliding_window(video_frames, SEQUENCE_LENGTH, STRIDE)\n",
        "                features.extend(sub_sequences)\n",
        "                labels.extend([class_index] * len(sub_sequences))\n",
        "                video_files_paths.extend([video_file_path] * len(sub_sequences))\n",
        "\n",
        "    features = np.asarray(features)\n",
        "    labels = np.array(labels)\n",
        "\n",
        "    return features, labels, video_files_paths\n",
        "\n",
        "# Create the dataset.\n",
        "features, labels, video_files_paths = create_dataset()\n",
        "\n",
        "# Using Keras's to_categorical method to convert labels into one-hot-encoded vectors\n",
        "one_hot_encoded_labels = to_categorical(labels)\n",
        "\n",
        "# Split the Data into Train (60%), Validation (20%), and Test Set (20%).\n",
        "features_train, features_temp, labels_train, labels_temp = train_test_split(\n",
        "    features, one_hot_encoded_labels, test_size=0.2, shuffle=True, random_state=seed_constant\n",
        ")\n",
        "features_val, features_test, labels_val, labels_test = train_test_split(\n",
        "    features_temp, labels_temp, test_size=0.5, shuffle=True, random_state=seed_constant\n",
        ")\n",
        "\n",
        "# Display the shapes of the datasets\n",
        "print(\"Train Features shape:\", features_train.shape)\n",
        "print(\"Train Labels shape:\", labels_train.shape)\n",
        "print(\"Validation Features shape:\", features_val.shape)\n",
        "print(\"Validation Labels shape:\", labels_val.shape)\n",
        "print(\"Test Features shape:\", features_test.shape)\n",
        "print(\"Test Labels shape:\", labels_test.shape)\n"
      ],
      "metadata": {
        "colab": {
          "base_uri": "https://localhost:8080/"
        },
        "id": "zKjyA4hjqrh5",
        "outputId": "525de216-2b18-4916-fce9-52e9e911afc7"
      },
      "execution_count": null,
      "outputs": [
        {
          "output_type": "stream",
          "name": "stdout",
          "text": [
            "Extracting Data of Class: deaf\n",
            "Extracting Data of Class: help\n",
            "Extracting Data of Class: no\n",
            "Extracting Data of Class: thin\n",
            "Extracting Data of Class: walk\n",
            "Extracting Data of Class: yes\n",
            "Extracting Data of Class: finish\n",
            "Extracting Data of Class: hot\n",
            "Extracting Data of Class: many\n",
            "Extracting Data of Class: bad\n",
            "Train Features shape: (498, 50, 64, 64, 3)\n",
            "Train Labels shape: (498, 10)\n",
            "Validation Features shape: (62, 50, 64, 64, 3)\n",
            "Validation Labels shape: (62, 10)\n",
            "Test Features shape: (63, 50, 64, 64, 3)\n",
            "Test Labels shape: (63, 10)\n"
          ]
        }
      ]
    },
    {
      "cell_type": "markdown",
      "metadata": {
        "id": "n_zTbHbHrBYj"
      },
      "source": [
        "Preprocess Data"
      ]
    },
    {
      "cell_type": "code",
      "source": [
        "# Print the shapes of the arrays to understand their structure\n",
        "print(\"Features train:\", features_train.shape)\n",
        "print(\"Labels shape:\", features_val.shape)\n",
        "print(\"Labels shape:\", features_test.shape)"
      ],
      "metadata": {
        "id": "VrmRJDw1KJkp",
        "colab": {
          "base_uri": "https://localhost:8080/"
        },
        "outputId": "c65dd102-44f3-4daa-9577-40b88bc2bd7e"
      },
      "execution_count": null,
      "outputs": [
        {
          "output_type": "stream",
          "name": "stdout",
          "text": [
            "Features train: (498, 50, 64, 64, 3)\n",
            "Labels shape: (62, 50, 64, 64, 3)\n",
            "Labels shape: (63, 50, 64, 64, 3)\n"
          ]
        }
      ]
    },
    {
      "cell_type": "markdown",
      "metadata": {
        "id": "dbijzFnPrvTZ"
      },
      "source": [
        "Construct the LRCN Model"
      ]
    },
    {
      "cell_type": "code",
      "execution_count": null,
      "metadata": {
        "id": "aWjUDTDasCtg",
        "colab": {
          "base_uri": "https://localhost:8080/"
        },
        "outputId": "0718cedb-bef7-490e-9e12-c0f5fdbde2e9"
      },
      "outputs": [
        {
          "output_type": "stream",
          "name": "stdout",
          "text": [
            "Model: \"sequential\"\n",
            "_________________________________________________________________\n",
            " Layer (type)                Output Shape              Param #   \n",
            "=================================================================\n",
            " time_distributed (TimeDistr  (None, 50, 64, 64, 16)   448       \n",
            " ibuted)                                                         \n",
            "                                                                 \n",
            " time_distributed_1 (TimeDis  (None, 50, 16, 16, 16)   0         \n",
            " tributed)                                                       \n",
            "                                                                 \n",
            " time_distributed_2 (TimeDis  (None, 50, 16, 16, 32)   4640      \n",
            " tributed)                                                       \n",
            "                                                                 \n",
            " time_distributed_3 (TimeDis  (None, 50, 4, 4, 32)     0         \n",
            " tributed)                                                       \n",
            "                                                                 \n",
            " time_distributed_4 (TimeDis  (None, 50, 4, 4, 64)     18496     \n",
            " tributed)                                                       \n",
            "                                                                 \n",
            " time_distributed_5 (TimeDis  (None, 50, 2, 2, 64)     0         \n",
            " tributed)                                                       \n",
            "                                                                 \n",
            " custom_conv2 (TimeDistribut  (None, 50, 2, 2, 64)     36928     \n",
            " ed)                                                             \n",
            "                                                                 \n",
            " time_distributed_6 (TimeDis  (None, 50, 1, 1, 64)     0         \n",
            " tributed)                                                       \n",
            "                                                                 \n",
            " dense (Dense)               (None, 50, 1, 1, 128)     8320      \n",
            "                                                                 \n",
            " dropout (Dropout)           (None, 50, 1, 1, 128)     0         \n",
            "                                                                 \n",
            " time_distributed_7 (TimeDis  (None, 50, 128)          0         \n",
            " tributed)                                                       \n",
            "                                                                 \n",
            " lstm (LSTM)                 (None, 32)                20608     \n",
            "                                                                 \n",
            " dense_1 (Dense)             (None, 10)                330       \n",
            "                                                                 \n",
            "=================================================================\n",
            "Total params: 89,770\n",
            "Trainable params: 89,770\n",
            "Non-trainable params: 0\n",
            "_________________________________________________________________\n",
            "Model Created Successfully!\n"
          ]
        }
      ],
      "source": [
        "from tensorflow.keras.regularizers import l2\n",
        "import time  # Import the time module\n",
        "# Record the start time\n",
        "start_time = time.time()\n",
        "\n",
        "def create_LRCN_model():\n",
        "    '''\n",
        "    This function will construct the required LRCN model.\n",
        "    Returns:\n",
        "        model: It is the required constructed LRCN model.\n",
        "    '''\n",
        "\n",
        "    # We will use a Sequential model for model construction.\n",
        "    model = Sequential()\n",
        "\n",
        "    # Define the Model Architecture.\n",
        "    ########################################################################################################################\n",
        "\n",
        "    model.add(TimeDistributed(Conv2D(16, (3, 3), padding='same',activation = 'relu'),\n",
        "                              input_shape = (SEQUENCE_LENGTH, IMAGE_HEIGHT, IMAGE_WIDTH, 3)))\n",
        "    model.add(TimeDistributed(MaxPooling2D((4, 4))))\n",
        "    model.add(TimeDistributed(Conv2D(32, (3, 3), padding='same',activation = 'relu')))\n",
        "    model.add(TimeDistributed(MaxPooling2D((4, 4))))\n",
        "    model.add(TimeDistributed(Conv2D(64, (3, 3), padding='same',activation = 'relu')))\n",
        "    model.add(TimeDistributed(MaxPooling2D((2, 2))))\n",
        "    model.add(TimeDistributed(Conv2D(64, (3, 3), padding='same', activation='relu'), name='custom_conv2'))\n",
        "    model.add(TimeDistributed(MaxPooling2D((2, 2))))\n",
        "\n",
        "    # Add L2 regularization to layers\n",
        "    model.add(Dense(128, activation='relu', kernel_regularizer=l2(0.001)))\n",
        "    model.add(Dropout(0.5))\n",
        "\n",
        "    model.add(TimeDistributed(Flatten()))\n",
        "    model.add(LSTM(32)) #number of memory cells or units in the Long Short-Term Memory (LSTM) layer.\n",
        "    model.add(Dense(len(CLASSES_LIST), activation = 'softmax'))\n",
        "\n",
        "    ########################################################################################################################\n",
        "\n",
        "    # Display the models summary.\n",
        "    model.summary()\n",
        "\n",
        "    # Return the constructed LRCN model.\n",
        "    return model\n",
        "    # Construct the required LRCN model.\n",
        "LRCN_model = create_LRCN_model()\n",
        "\n",
        "# Display the success message.\n",
        "print(\"Model Created Successfully!\")"
      ]
    },
    {
      "cell_type": "code",
      "execution_count": null,
      "metadata": {
        "id": "jR8VIQSjsLWI",
        "colab": {
          "base_uri": "https://localhost:8080/"
        },
        "outputId": "822a31d3-1d1f-4901-9222-d28b26637870"
      },
      "outputs": [
        {
          "output_type": "stream",
          "name": "stdout",
          "text": [
            "Epoch 1/200\n",
            "32/32 [==============================] - 17s 62ms/step - loss: 2.3654 - accuracy: 0.1365 - val_loss: 2.3528 - val_accuracy: 0.1290\n",
            "Epoch 2/200\n",
            "32/32 [==============================] - 1s 23ms/step - loss: 2.3343 - accuracy: 0.1406 - val_loss: 2.3195 - val_accuracy: 0.0806\n",
            "Epoch 3/200\n",
            "32/32 [==============================] - 1s 24ms/step - loss: 2.2939 - accuracy: 0.1727 - val_loss: 2.2697 - val_accuracy: 0.2742\n",
            "Epoch 4/200\n",
            "32/32 [==============================] - 1s 24ms/step - loss: 2.1869 - accuracy: 0.2510 - val_loss: 2.0146 - val_accuracy: 0.2742\n",
            "Epoch 5/200\n",
            "32/32 [==============================] - 1s 24ms/step - loss: 2.0003 - accuracy: 0.2831 - val_loss: 2.1023 - val_accuracy: 0.3065\n",
            "Epoch 6/200\n",
            "32/32 [==============================] - 1s 24ms/step - loss: 1.9320 - accuracy: 0.3052 - val_loss: 1.8629 - val_accuracy: 0.3871\n",
            "Epoch 7/200\n",
            "32/32 [==============================] - 1s 24ms/step - loss: 1.8191 - accuracy: 0.3414 - val_loss: 1.6515 - val_accuracy: 0.5000\n",
            "Epoch 8/200\n",
            "32/32 [==============================] - 1s 25ms/step - loss: 1.6317 - accuracy: 0.4598 - val_loss: 1.5418 - val_accuracy: 0.5323\n",
            "Epoch 9/200\n",
            "32/32 [==============================] - 1s 24ms/step - loss: 1.5539 - accuracy: 0.4699 - val_loss: 1.4798 - val_accuracy: 0.4839\n",
            "Epoch 10/200\n",
            "32/32 [==============================] - 1s 25ms/step - loss: 1.4938 - accuracy: 0.4739 - val_loss: 1.5413 - val_accuracy: 0.4194\n",
            "Epoch 11/200\n",
            "32/32 [==============================] - 1s 24ms/step - loss: 1.2898 - accuracy: 0.5643 - val_loss: 1.4565 - val_accuracy: 0.5161\n",
            "Epoch 12/200\n",
            "32/32 [==============================] - 1s 25ms/step - loss: 1.3251 - accuracy: 0.5261 - val_loss: 1.3213 - val_accuracy: 0.6290\n",
            "Epoch 13/200\n",
            "32/32 [==============================] - 1s 23ms/step - loss: 1.1910 - accuracy: 0.5843 - val_loss: 1.2256 - val_accuracy: 0.6613\n",
            "Epoch 14/200\n",
            "32/32 [==============================] - 1s 24ms/step - loss: 1.0636 - accuracy: 0.6486 - val_loss: 1.1440 - val_accuracy: 0.6613\n",
            "Epoch 15/200\n",
            "32/32 [==============================] - 1s 24ms/step - loss: 1.0232 - accuracy: 0.6566 - val_loss: 1.1807 - val_accuracy: 0.6452\n",
            "Epoch 16/200\n",
            "32/32 [==============================] - 1s 24ms/step - loss: 0.9932 - accuracy: 0.6627 - val_loss: 1.0904 - val_accuracy: 0.7097\n",
            "Epoch 17/200\n",
            "32/32 [==============================] - 1s 24ms/step - loss: 0.8310 - accuracy: 0.7390 - val_loss: 0.9683 - val_accuracy: 0.7258\n",
            "Epoch 18/200\n",
            "32/32 [==============================] - 1s 25ms/step - loss: 0.7073 - accuracy: 0.7912 - val_loss: 0.9790 - val_accuracy: 0.7258\n",
            "Epoch 19/200\n",
            "32/32 [==============================] - 1s 24ms/step - loss: 0.8771 - accuracy: 0.6807 - val_loss: 1.0299 - val_accuracy: 0.6774\n",
            "Epoch 20/200\n",
            "32/32 [==============================] - 1s 24ms/step - loss: 0.7862 - accuracy: 0.7410 - val_loss: 0.8957 - val_accuracy: 0.7258\n",
            "Epoch 21/200\n",
            "32/32 [==============================] - 1s 24ms/step - loss: 0.6700 - accuracy: 0.8032 - val_loss: 0.8267 - val_accuracy: 0.7903\n",
            "Epoch 22/200\n",
            "32/32 [==============================] - 1s 24ms/step - loss: 0.5110 - accuracy: 0.8353 - val_loss: 0.8265 - val_accuracy: 0.8065\n",
            "Epoch 23/200\n",
            "32/32 [==============================] - 1s 23ms/step - loss: 0.4387 - accuracy: 0.8855 - val_loss: 0.8439 - val_accuracy: 0.7742\n",
            "Epoch 24/200\n",
            "32/32 [==============================] - 1s 24ms/step - loss: 0.5222 - accuracy: 0.8273 - val_loss: 0.8304 - val_accuracy: 0.7419\n",
            "Epoch 25/200\n",
            "32/32 [==============================] - 1s 25ms/step - loss: 0.3712 - accuracy: 0.8876 - val_loss: 0.7587 - val_accuracy: 0.7581\n",
            "Epoch 26/200\n",
            "32/32 [==============================] - 1s 24ms/step - loss: 0.3227 - accuracy: 0.9116 - val_loss: 0.6950 - val_accuracy: 0.8226\n",
            "Epoch 27/200\n",
            "32/32 [==============================] - 1s 24ms/step - loss: 0.3070 - accuracy: 0.9056 - val_loss: 0.7111 - val_accuracy: 0.8226\n",
            "Epoch 28/200\n",
            "32/32 [==============================] - 1s 23ms/step - loss: 0.7138 - accuracy: 0.8173 - val_loss: 2.6072 - val_accuracy: 0.3871\n",
            "Epoch 29/200\n",
            "32/32 [==============================] - 1s 23ms/step - loss: 1.4174 - accuracy: 0.5221 - val_loss: 1.4036 - val_accuracy: 0.5323\n",
            "Epoch 30/200\n",
            "32/32 [==============================] - 1s 23ms/step - loss: 0.9537 - accuracy: 0.6867 - val_loss: 0.8899 - val_accuracy: 0.7419\n",
            "Epoch 31/200\n",
            "32/32 [==============================] - 1s 24ms/step - loss: 0.5974 - accuracy: 0.8173 - val_loss: 0.8867 - val_accuracy: 0.7419\n",
            "Epoch 32/200\n",
            "32/32 [==============================] - 1s 24ms/step - loss: 0.5229 - accuracy: 0.8574 - val_loss: 0.7848 - val_accuracy: 0.8226\n",
            "Epoch 33/200\n",
            "32/32 [==============================] - 1s 24ms/step - loss: 0.3477 - accuracy: 0.9137 - val_loss: 0.6558 - val_accuracy: 0.8710\n",
            "Epoch 34/200\n",
            "32/32 [==============================] - 1s 24ms/step - loss: 0.2916 - accuracy: 0.9498 - val_loss: 0.6309 - val_accuracy: 0.9032\n",
            "Epoch 35/200\n",
            "32/32 [==============================] - 1s 24ms/step - loss: 0.2326 - accuracy: 0.9618 - val_loss: 0.6581 - val_accuracy: 0.8387\n",
            "Epoch 36/200\n",
            "32/32 [==============================] - 1s 25ms/step - loss: 0.2013 - accuracy: 0.9659 - val_loss: 0.6419 - val_accuracy: 0.8548\n",
            "Epoch 37/200\n",
            "32/32 [==============================] - 1s 25ms/step - loss: 0.1772 - accuracy: 0.9759 - val_loss: 0.5717 - val_accuracy: 0.9194\n",
            "Epoch 38/200\n",
            "32/32 [==============================] - 1s 24ms/step - loss: 0.3055 - accuracy: 0.9197 - val_loss: 0.5858 - val_accuracy: 0.8710\n",
            "Epoch 39/200\n",
            "32/32 [==============================] - 1s 24ms/step - loss: 0.2546 - accuracy: 0.9317 - val_loss: 0.5230 - val_accuracy: 0.9194\n",
            "Epoch 40/200\n",
            "32/32 [==============================] - 1s 24ms/step - loss: 0.1728 - accuracy: 0.9679 - val_loss: 0.5270 - val_accuracy: 0.9032\n",
            "Epoch 41/200\n",
            "32/32 [==============================] - 1s 23ms/step - loss: 0.1428 - accuracy: 0.9759 - val_loss: 0.5646 - val_accuracy: 0.9032\n",
            "Epoch 42/200\n",
            "32/32 [==============================] - 1s 23ms/step - loss: 0.1400 - accuracy: 0.9759 - val_loss: 0.5594 - val_accuracy: 0.9194\n",
            "Epoch 43/200\n",
            "32/32 [==============================] - 1s 23ms/step - loss: 0.1233 - accuracy: 0.9799 - val_loss: 0.5495 - val_accuracy: 0.9032\n",
            "Epoch 44/200\n",
            "32/32 [==============================] - 1s 25ms/step - loss: 0.1376 - accuracy: 0.9799 - val_loss: 0.5098 - val_accuracy: 0.9194\n",
            "Epoch 45/200\n",
            "32/32 [==============================] - 1s 24ms/step - loss: 0.1132 - accuracy: 0.9799 - val_loss: 0.5633 - val_accuracy: 0.9032\n",
            "Epoch 46/200\n",
            "32/32 [==============================] - 1s 24ms/step - loss: 0.1249 - accuracy: 0.9819 - val_loss: 0.6238 - val_accuracy: 0.8710\n",
            "Epoch 47/200\n",
            "32/32 [==============================] - 1s 26ms/step - loss: 0.2180 - accuracy: 0.9458 - val_loss: 0.7271 - val_accuracy: 0.8387\n",
            "Epoch 48/200\n",
            "32/32 [==============================] - 1s 23ms/step - loss: 0.1736 - accuracy: 0.9598 - val_loss: 0.8550 - val_accuracy: 0.8226\n",
            "Epoch 49/200\n",
            "32/32 [==============================] - 1s 23ms/step - loss: 0.1468 - accuracy: 0.9639 - val_loss: 0.6055 - val_accuracy: 0.9032\n",
            "Epoch 50/200\n",
            "32/32 [==============================] - 1s 24ms/step - loss: 0.0997 - accuracy: 0.9900 - val_loss: 0.5528 - val_accuracy: 0.9032\n",
            "Epoch 51/200\n",
            "32/32 [==============================] - 1s 24ms/step - loss: 0.0819 - accuracy: 0.9900 - val_loss: 0.5321 - val_accuracy: 0.9355\n",
            "Epoch 52/200\n",
            "32/32 [==============================] - 1s 24ms/step - loss: 0.0756 - accuracy: 0.9920 - val_loss: 0.5663 - val_accuracy: 0.9355\n",
            "Epoch 53/200\n",
            "32/32 [==============================] - 1s 24ms/step - loss: 0.0707 - accuracy: 0.9920 - val_loss: 0.5875 - val_accuracy: 0.9355\n",
            "Epoch 54/200\n",
            "32/32 [==============================] - 1s 24ms/step - loss: 0.0697 - accuracy: 0.9900 - val_loss: 0.5308 - val_accuracy: 0.9355\n",
            "Epoch 55/200\n",
            "32/32 [==============================] - 1s 24ms/step - loss: 0.0612 - accuracy: 0.9980 - val_loss: 0.5584 - val_accuracy: 0.9355\n",
            "Epoch 56/200\n",
            "32/32 [==============================] - 1s 24ms/step - loss: 0.0821 - accuracy: 0.9859 - val_loss: 0.6553 - val_accuracy: 0.8710\n",
            "Epoch 57/200\n",
            "32/32 [==============================] - 1s 24ms/step - loss: 0.1447 - accuracy: 0.9719 - val_loss: 0.5716 - val_accuracy: 0.9194\n",
            "Epoch 58/200\n",
            "32/32 [==============================] - 1s 23ms/step - loss: 0.1670 - accuracy: 0.9598 - val_loss: 0.6985 - val_accuracy: 0.8226\n",
            "Epoch 59/200\n",
            "32/32 [==============================] - 1s 24ms/step - loss: 0.3601 - accuracy: 0.8876 - val_loss: 0.8936 - val_accuracy: 0.7742\n",
            "Epoch 60/200\n",
            "32/32 [==============================] - 1s 24ms/step - loss: 0.2035 - accuracy: 0.9398 - val_loss: 0.6552 - val_accuracy: 0.8871\n",
            "Epoch 61/200\n",
            "32/32 [==============================] - 1s 24ms/step - loss: 0.1458 - accuracy: 0.9699 - val_loss: 0.5548 - val_accuracy: 0.9194\n",
            "Epoch 62/200\n",
            "32/32 [==============================] - 1s 24ms/step - loss: 0.1143 - accuracy: 0.9839 - val_loss: 0.5141 - val_accuracy: 0.8871\n",
            "Epoch 63/200\n",
            "32/32 [==============================] - 1s 24ms/step - loss: 0.0750 - accuracy: 0.9940 - val_loss: 0.5320 - val_accuracy: 0.9194\n",
            "Epoch 64/200\n",
            "32/32 [==============================] - 1s 24ms/step - loss: 0.0730 - accuracy: 0.9920 - val_loss: 0.4910 - val_accuracy: 0.9032\n",
            "Epoch 65/200\n",
            "32/32 [==============================] - 1s 25ms/step - loss: 0.0609 - accuracy: 0.9980 - val_loss: 0.5716 - val_accuracy: 0.9194\n",
            "Epoch 66/200\n",
            "32/32 [==============================] - 1s 24ms/step - loss: 0.0562 - accuracy: 0.9980 - val_loss: 0.5412 - val_accuracy: 0.9355\n",
            "Epoch 67/200\n",
            "32/32 [==============================] - 1s 24ms/step - loss: 0.0538 - accuracy: 0.9980 - val_loss: 0.5882 - val_accuracy: 0.9194\n",
            "Epoch 68/200\n",
            "32/32 [==============================] - 1s 25ms/step - loss: 0.0498 - accuracy: 0.9980 - val_loss: 0.5445 - val_accuracy: 0.9355\n",
            "Epoch 69/200\n",
            "32/32 [==============================] - 1s 24ms/step - loss: 0.0444 - accuracy: 0.9980 - val_loss: 0.5664 - val_accuracy: 0.9355\n",
            "Epoch 70/200\n",
            "32/32 [==============================] - 1s 24ms/step - loss: 0.0419 - accuracy: 1.0000 - val_loss: 0.5571 - val_accuracy: 0.9355\n",
            "Epoch 71/200\n",
            "32/32 [==============================] - 1s 24ms/step - loss: 0.0417 - accuracy: 1.0000 - val_loss: 0.5550 - val_accuracy: 0.9355\n",
            "Epoch 72/200\n",
            "32/32 [==============================] - 1s 24ms/step - loss: 0.0403 - accuracy: 1.0000 - val_loss: 0.5482 - val_accuracy: 0.9355\n",
            "Epoch 73/200\n",
            "32/32 [==============================] - 1s 24ms/step - loss: 0.0391 - accuracy: 1.0000 - val_loss: 0.5522 - val_accuracy: 0.9355\n",
            "Epoch 74/200\n",
            "32/32 [==============================] - 1s 24ms/step - loss: 0.0386 - accuracy: 1.0000 - val_loss: 0.5586 - val_accuracy: 0.9355\n",
            "Epoch 75/200\n",
            "32/32 [==============================] - 1s 24ms/step - loss: 0.0375 - accuracy: 1.0000 - val_loss: 0.5474 - val_accuracy: 0.9355\n",
            "Epoch 76/200\n",
            "32/32 [==============================] - 1s 24ms/step - loss: 0.0368 - accuracy: 1.0000 - val_loss: 0.5652 - val_accuracy: 0.9355\n",
            "Epoch 77/200\n",
            "32/32 [==============================] - 1s 24ms/step - loss: 0.0361 - accuracy: 1.0000 - val_loss: 0.5735 - val_accuracy: 0.9355\n",
            "Epoch 78/200\n",
            "32/32 [==============================] - 1s 24ms/step - loss: 0.0357 - accuracy: 1.0000 - val_loss: 0.5865 - val_accuracy: 0.9355\n",
            "Epoch 79/200\n",
            "32/32 [==============================] - 1s 24ms/step - loss: 0.0347 - accuracy: 1.0000 - val_loss: 0.5929 - val_accuracy: 0.9355\n",
            "Epoch 80/200\n",
            "32/32 [==============================] - 1s 24ms/step - loss: 0.0340 - accuracy: 1.0000 - val_loss: 0.5752 - val_accuracy: 0.9355\n",
            "Epoch 81/200\n",
            "32/32 [==============================] - 1s 25ms/step - loss: 0.0338 - accuracy: 1.0000 - val_loss: 0.5772 - val_accuracy: 0.9355\n",
            "Epoch 82/200\n",
            "32/32 [==============================] - 1s 24ms/step - loss: 0.0330 - accuracy: 1.0000 - val_loss: 0.5832 - val_accuracy: 0.9355\n",
            "Epoch 83/200\n",
            "32/32 [==============================] - 1s 24ms/step - loss: 0.0326 - accuracy: 1.0000 - val_loss: 0.6065 - val_accuracy: 0.9355\n",
            "Epoch 84/200\n",
            "32/32 [==============================] - 1s 25ms/step - loss: 0.0333 - accuracy: 0.9980 - val_loss: 0.5781 - val_accuracy: 0.9194\n",
            "Execution time: 87.50 seconds\n"
          ]
        }
      ],
      "source": [
        "# Create an Instance of Early Stopping Callback.\n",
        "early_stopping_callback = EarlyStopping(monitor = 'val_loss', patience = 20, mode = 'min', restore_best_weights = True)\n",
        "\n",
        "# Compile the model and specify loss function, optimizer and metrics to the model.\n",
        "LRCN_model.compile(loss = 'categorical_crossentropy', optimizer = 'Adam', metrics = [\"accuracy\"])\n",
        "\n",
        "# Start training the model.\n",
        "LRCN_model_training_history = LRCN_model.fit(x=features_train, y=labels_train, epochs=200, batch_size=16,\n",
        "                                            shuffle=True, validation_data=(features_val, labels_val),\n",
        "                                            callbacks=[early_stopping_callback])\n",
        "#LRCN_model_training_history = LRCN_model.fit(x=features_train, y=labels_train, epochs=50, batch_size=8,\n",
        "                                            #shuffle=True, validation_data=(features_val, labels_val))\n",
        "\n",
        "# Record the end time\n",
        "end_time = time.time()\n",
        "# Calculate and print the execution time\n",
        "execution_time = end_time - start_time\n",
        "print(f\"Execution time: {execution_time:.2f} seconds\")"
      ]
    },
    {
      "cell_type": "markdown",
      "metadata": {
        "id": "LeWBls5SsY2D"
      },
      "source": [
        "Model Evaluation"
      ]
    },
    {
      "cell_type": "code",
      "execution_count": null,
      "metadata": {
        "id": "KWKdfXNfsWfH",
        "colab": {
          "base_uri": "https://localhost:8080/"
        },
        "outputId": "bd3fa521-f9c1-4228-ca35-3be5878a8c79"
      },
      "outputs": [
        {
          "output_type": "stream",
          "name": "stdout",
          "text": [
            "2/2 [==============================] - 1s 266ms/step - loss: 0.1856 - accuracy: 0.9524\n"
          ]
        }
      ],
      "source": [
        "# Evaluate the trained model.\n",
        "model_evaluation_history = LRCN_model.evaluate(features_test, labels_test)\n"
      ]
    },
    {
      "cell_type": "code",
      "source": [
        "\n",
        "\n",
        "# Assuming you have the training history stored in the variable 'LRCN_model_training_history'\n",
        "train_loss = LRCN_model_training_history.history['loss']\n",
        "val_loss = LRCN_model_training_history.history['val_loss']\n",
        "epochs = range(1, len(train_loss) + 1)\n",
        "\n",
        "# Plot the training and validation loss\n",
        "plt.plot(epochs, train_loss, 'b', label='Training Loss')\n",
        "plt.plot(epochs, val_loss, 'r', label='Validation Loss')\n",
        "plt.xlabel('Epochs')\n",
        "plt.ylabel('Loss')\n",
        "plt.title('Training and Validation Loss')\n",
        "plt.legend()\n",
        "plt.show()\n"
      ],
      "metadata": {
        "id": "4mf1gubI_V2R",
        "colab": {
          "base_uri": "https://localhost:8080/",
          "height": 472
        },
        "outputId": "f3761f1f-df33-4e16-f3df-2d68d47cba4c"
      },
      "execution_count": null,
      "outputs": [
        {
          "output_type": "display_data",
          "data": {
            "text/plain": [
              "<Figure size 640x480 with 1 Axes>"
            ],
            "image/png": "[encoded data removed]"
          },
          "metadata": {}
        }
      ]
    },
    {
      "cell_type": "code",
      "source": [
        "train_accuracy = LRCN_model_training_history.history['accuracy']\n",
        "val_accuracy = LRCN_model_training_history.history['val_accuracy']\n",
        "epochs = range(1, len(train_accuracy) + 1)\n",
        "\n",
        "# Plot the training and validation accuracy\n",
        "plt.plot(epochs, train_accuracy, 'b', label='Training Accuracy')\n",
        "plt.plot(epochs, val_accuracy, 'r', label='Validation Accuracy')\n",
        "plt.xlabel('Epochs')\n",
        "plt.ylabel('Accuracy')\n",
        "plt.title('Training and Validation Accuracy')\n",
        "plt.legend()\n",
        "plt.show()"
      ],
      "metadata": {
        "id": "j1wWPdMaAXUb",
        "colab": {
          "base_uri": "https://localhost:8080/",
          "height": 472
        },
        "outputId": "6c1734c4-12bb-4294-cb24-c3dee9d2b9e4"
      },
      "execution_count": null,
      "outputs": [
        {
          "output_type": "display_data",
          "data": {
            "text/plain": [
              "<Figure size 640x480 with 1 Axes>"
            ],
            "image/png": "[encoded data removed]"
          },
          "metadata": {}
        }
      ]
    },
    {
      "cell_type": "code",
      "source": [
        "\n",
        "from sklearn.metrics import confusion_matrix\n",
        "from sklearn.metrics import ConfusionMatrixDisplay\n",
        "\n",
        "# Evaluate your model on the test data and get the predicted labels\n",
        "predicted_labels = LRCN_model.predict(features_test)\n",
        "predicted_labels = np.argmax(predicted_labels, axis=1)  # Convert one-hot encoded predictions to class indices\n",
        "\n",
        "# Get the true labels (assuming you already have them)\n",
        "true_labels = np.argmax(labels_test, axis=1)  # Convert one-hot encoded true labels to class indices\n",
        "\n",
        "# Compute the confusion matrix\n",
        "conf_matrix = confusion_matrix(true_labels, predicted_labels)\n",
        "\n",
        "# Calculate the row sums (total samples per class)\n",
        "row_sums = conf_matrix.sum(axis=1, keepdims=True)\n",
        "\n",
        "# Normalize the confusion matrix to percentages\n",
        "conf_matrix_percent = conf_matrix / row_sums\n",
        "\n",
        "# Plot the confusion matrix with percentages\n",
        "class_names = CLASSES_LIST  # Replace with your class names\n",
        "disp = ConfusionMatrixDisplay(confusion_matrix=conf_matrix_percent, display_labels=class_names)\n",
        "disp.plot(cmap=plt.cm.Blues, values_format=\".2f\")  # Use \".2f\" to format percentages with two decimal places\n",
        "\n",
        "plt.title(\"Confusion Matrix (Percentages)LRCN_dropout_L2\")\n",
        "plt.show()\n"
      ],
      "metadata": {
        "id": "c5PpmW3SijWT",
        "colab": {
          "base_uri": "https://localhost:8080/",
          "height": 489
        },
        "outputId": "7b40df5d-22ab-46a5-862a-b40bea867dee"
      },
      "execution_count": null,
      "outputs": [
        {
          "output_type": "stream",
          "name": "stdout",
          "text": [
            "2/2 [==============================] - 1s 25ms/step\n"
          ]
        },
        {
          "output_type": "display_data",
          "data": {
            "text/plain": [
              "<Figure size 640x480 with 2 Axes>"
            ],
            "image/png": "[encoded data removed]"
          },
          "metadata": {}
        }
      ]
    },
    {
      "cell_type": "code",
      "source": [
        "# Get the loss and accuracy from model_evaluation_history.\n",
        "model_evaluation_loss, model_evaluation_accuracy = model_evaluation_history\n",
        "\n",
        "# Define the string date format.\n",
        "# Get the current Date and Time in a DateTime Object.\n",
        "# Convert the DateTime object to string according to the style mentioned in date_time_format string.\n",
        "date_time_format = '%Y_%m_%d__%H_%M_%S'\n",
        "current_date_time_dt = dt.datetime.now()\n",
        "current_date_time_string = dt.datetime.strftime(current_date_time_dt, date_time_format)\n",
        "\n",
        "# Define a useful name for our model to make it easy for us while navigating through multiple saved models.\n",
        "#model_file_name = f'CNN3D_model___Date_Time_{current_date_time_string}___Loss_{model_evaluation_loss}___Accuracy_{model_evaluation_accuracy}.h5'\n",
        "model_file_name='/content/drive/MyDrive/ProjectResearchMsc/Model/LRCN_slidingWindow_L2_01.h5'\n",
        "# Save the Model.\n",
        "LRCN_model.save(model_file_name)"
      ],
      "metadata": {
        "id": "B_DVqzbI0nPB"
      },
      "execution_count": null,
      "outputs": []
    },
    {
      "cell_type": "code",
      "source": [
        "# the true labels for the training data stored in 'labels_train'\n",
        "\n",
        "# Use the trained model to predict the labels for the training data\n",
        "predicted_labels_train = LRCN_model.predict(features_train)\n",
        "\n",
        "# Convert the predicted labels to one-hot-encoded format\n",
        "predicted_labels_train_onehot = np.argmax(predicted_labels_train, axis=1)\n",
        "\n",
        "# Print the shape of the predicted_labels_train_onehot array (optional, for verification)\n",
        "print(\"Shape of predicted_labels_train_onehot:\", predicted_labels_train_onehot.shape)\n",
        "\n",
        "# Now, you can proceed to calculate and print the classification report for the training data\n",
        "from sklearn.metrics import classification_report\n",
        "\n",
        "# Get the classification report for the training data\n",
        "classification_report_train = classification_report(labels_train.argmax(axis=1), predicted_labels_train_onehot, target_names=CLASSES_LIST)\n",
        "\n",
        "# Print the classification report\n",
        "print(\"[INFO] evaluation testing for training data ...\\n\", classification_report_train)\n",
        "\n",
        "# Get the classification report for the validation data\n",
        "print(\"[INFO] evaluation testing for validation data ...\")\n",
        "predictions_val = LRCN_model.predict(features_val, batch_size=2)  # Change 'batch_size' to the desired value\n",
        "classification_report_val = classification_report(labels_val.argmax(axis=1), predictions_val.argmax(axis=1), target_names=CLASSES_LIST)\n",
        "\n",
        "# Print the classification report for validation data\n",
        "print(classification_report_val)\n",
        "\n",
        "# Get the classification report for the test data\n",
        "print(\"[INFO] evaluation testing for test data ...\")\n",
        "predictions_test = LRCN_model.predict(features_test, batch_size=2)  # Change 'batch_size' to the desired value\n",
        "classification_report_test = classification_report(labels_test.argmax(axis=1), predictions_test.argmax(axis=1), target_names=CLASSES_LIST)\n",
        "\n",
        "# Print the classification report for test data\n",
        "print(classification_report_test)\n"
      ],
      "metadata": {
        "id": "DAMmRYNrBFmo",
        "colab": {
          "base_uri": "https://localhost:8080/"
        },
        "outputId": "b69ef6f5-ecc4-4921-df27-67d6d205b85e"
      },
      "execution_count": null,
      "outputs": [
        {
          "output_type": "stream",
          "name": "stdout",
          "text": [
            "16/16 [==============================] - 1s 36ms/step\n",
            "Shape of predicted_labels_train_onehot: (498,)\n",
            "[INFO] evaluation testing for training data ...\n",
            "               precision    recall  f1-score   support\n",
            "\n",
            "        deaf       1.00      0.98      0.99        63\n",
            "        help       1.00      1.00      1.00        36\n",
            "          no       1.00      1.00      1.00        60\n",
            "        thin       1.00      1.00      1.00        42\n",
            "        walk       1.00      1.00      1.00        77\n",
            "         yes       1.00      1.00      1.00        41\n",
            "      finish       0.98      1.00      0.99        47\n",
            "         hot       1.00      1.00      1.00        46\n",
            "        many       1.00      1.00      1.00        58\n",
            "         bad       1.00      1.00      1.00        28\n",
            "\n",
            "    accuracy                           1.00       498\n",
            "   macro avg       1.00      1.00      1.00       498\n",
            "weighted avg       1.00      1.00      1.00       498\n",
            "\n",
            "[INFO] evaluation testing for validation data ...\n",
            "31/31 [==============================] - 0s 4ms/step\n",
            "              precision    recall  f1-score   support\n",
            "\n",
            "        deaf       1.00      0.85      0.92        13\n",
            "        help       0.80      1.00      0.89         4\n",
            "          no       1.00      1.00      1.00         8\n",
            "        thin       1.00      1.00      1.00         7\n",
            "        walk       1.00      1.00      1.00         5\n",
            "         yes       1.00      1.00      1.00         6\n",
            "      finish       1.00      1.00      1.00         3\n",
            "         hot       1.00      0.33      0.50         6\n",
            "        many       0.78      1.00      0.88         7\n",
            "         bad       0.50      1.00      0.67         3\n",
            "\n",
            "    accuracy                           0.90        62\n",
            "   macro avg       0.91      0.92      0.88        62\n",
            "weighted avg       0.94      0.90      0.90        62\n",
            "\n",
            "[INFO] evaluation testing for test data ...\n",
            "32/32 [==============================] - 0s 7ms/step\n",
            "              precision    recall  f1-score   support\n",
            "\n",
            "        deaf       1.00      0.83      0.91         6\n",
            "        help       1.00      0.67      0.80         3\n",
            "          no       1.00      0.75      0.86         4\n",
            "        thin       1.00      1.00      1.00        10\n",
            "        walk       1.00      1.00      1.00        13\n",
            "         yes       0.80      1.00      0.89         4\n",
            "      finish       0.80      1.00      0.89         4\n",
            "         hot       0.83      1.00      0.91         5\n",
            "        many       1.00      1.00      1.00        10\n",
            "         bad       1.00      1.00      1.00         4\n",
            "\n",
            "    accuracy                           0.95        63\n",
            "   macro avg       0.94      0.93      0.93        63\n",
            "weighted avg       0.96      0.95      0.95        63\n",
            "\n"
          ]
        }
      ]
    },
    {
      "cell_type": "code",
      "source": [
        "!nvidia-smi"
      ],
      "metadata": {
        "id": "T0bgd6_vxDq3",
        "colab": {
          "base_uri": "https://localhost:8080/"
        },
        "outputId": "da6fb26e-90f0-401d-c770-02ec9a23625c"
      },
      "execution_count": null,
      "outputs": [
        {
          "output_type": "stream",
          "name": "stdout",
          "text": [
            "Thu Sep  7 00:46:40 2023       \n",
            "+-----------------------------------------------------------------------------+\n",
            "| NVIDIA-SMI 525.105.17   Driver Version: 525.105.17   CUDA Version: 12.0     |\n",
            "|-------------------------------+----------------------+----------------------+\n",
            "| GPU  Name        Persistence-M| Bus-Id        Disp.A | Volatile Uncorr. ECC |\n",
            "| Fan  Temp  Perf  Pwr:Usage/Cap|         Memory-Usage | GPU-Util  Compute M. |\n",
            "|                               |                      |               MIG M. |\n",
            "|===============================+======================+======================|\n",
            "|   0  NVIDIA A100-SXM...  Off  | 00000000:00:04.0 Off |                    0 |\n",
            "| N/A   36C    P0    69W / 350W |   9761MiB / 40960MiB |     28%      Default |\n",
            "|                               |                      |             Disabled |\n",
            "+-------------------------------+----------------------+----------------------+\n",
            "                                                                               \n",
            "+-----------------------------------------------------------------------------+\n",
            "| Processes:                                                                  |\n",
            "|  GPU   GI   CI        PID   Type   Process name                  GPU Memory |\n",
            "|        ID   ID                                                   Usage      |\n",
            "|=============================================================================|\n",
            "+-----------------------------------------------------------------------------+\n"
          ]
        }
      ]
    },
    {
      "cell_type": "markdown",
      "source": [
        "Test with test Video"
      ],
      "metadata": {
        "id": "KLlgKSBdsIu-"
      }
    },
    {
      "cell_type": "code",
      "source": [
        "!pip install streamlit"
      ],
      "metadata": {
        "colab": {
          "base_uri": "https://localhost:8080/"
        },
        "id": "skUj3CosBDgY",
        "outputId": "3b3d08a3-ec6c-4d85-b152-0536376606b5"
      },
      "execution_count": null,
      "outputs": [
        {
          "output_type": "stream",
          "name": "stdout",
          "text": [
            "Collecting streamlit\n",
            "  Downloading streamlit-1.26.0-py2.py3-none-any.whl (8.1 MB)\n",
            "\u001b[2K     \u001b[90m━━━━━━━━━━━━━━━━━━━━━━━━━━━━━━━━━━━━━━━━\u001b[0m \u001b[32m8.1/8.1 MB\u001b[0m \u001b[31m27.2 MB/s\u001b[0m eta \u001b[36m0:00:00\u001b[0m\n",
            "\u001b[?25hRequirement already satisfied: altair<6,>=4.0 in /usr/local/lib/python3.10/dist-packages (from streamlit) (4.2.2)\n",
            "Requirement already satisfied: blinker<2,>=1.0.0 in /usr/lib/python3/dist-packages (from streamlit) (1.4)\n",
            "Requirement already satisfied: cachetools<6,>=4.0 in /usr/local/lib/python3.10/dist-packages (from streamlit) (5.3.1)\n",
            "Requirement already satisfied: click<9,>=7.0 in /usr/local/lib/python3.10/dist-packages (from streamlit) (8.1.7)\n",
            "Requirement already satisfied: importlib-metadata<7,>=1.4 in /usr/local/lib/python3.10/dist-packages (from streamlit) (6.8.0)\n",
            "Requirement already satisfied: numpy<2,>=1.19.3 in /usr/local/lib/python3.10/dist-packages (from streamlit) (1.23.5)\n",
            "Requirement already satisfied: packaging<24,>=16.8 in /usr/local/lib/python3.10/dist-packages (from streamlit) (23.1)\n",
            "Requirement already satisfied: pandas<3,>=1.3.0 in /usr/local/lib/python3.10/dist-packages (from streamlit) (1.5.3)\n",
            "Requirement already satisfied: pillow<10,>=7.1.0 in /usr/local/lib/python3.10/dist-packages (from streamlit) (9.4.0)\n",
            "Requirement already satisfied: protobuf<5,>=3.20 in /usr/local/lib/python3.10/dist-packages (from streamlit) (3.20.3)\n",
            "Requirement already satisfied: pyarrow>=6.0 in /usr/local/lib/python3.10/dist-packages (from streamlit) (9.0.0)\n",
            "Collecting pympler<2,>=0.9 (from streamlit)\n",
            "  Downloading Pympler-1.0.1-py3-none-any.whl (164 kB)\n",
            "\u001b[2K     \u001b[90m━━━━━━━━━━━━━━━━━━━━━━━━━━━━━━━━━━━━━━\u001b[0m \u001b[32m164.8/164.8 kB\u001b[0m \u001b[31m22.9 MB/s\u001b[0m eta \u001b[36m0:00:00\u001b[0m\n",
            "\u001b[?25hRequirement already satisfied: python-dateutil<3,>=2.7.3 in /usr/local/lib/python3.10/dist-packages (from streamlit) (2.8.2)\n",
            "Requirement already satisfied: requests<3,>=2.18 in /usr/local/lib/python3.10/dist-packages (from streamlit) (2.31.0)\n",
            "Requirement already satisfied: rich<14,>=10.14.0 in /usr/local/lib/python3.10/dist-packages (from streamlit) (13.5.2)\n",
            "Requirement already satisfied: tenacity<9,>=8.1.0 in /usr/local/lib/python3.10/dist-packages (from streamlit) (8.2.3)\n",
            "Requirement already satisfied: toml<2,>=0.10.1 in /usr/local/lib/python3.10/dist-packages (from streamlit) (0.10.2)\n",
            "Requirement already satisfied: typing-extensions<5,>=4.1.0 in /usr/local/lib/python3.10/dist-packages (from streamlit) (4.7.1)\n",
            "Collecting tzlocal<5,>=1.1 (from streamlit)\n",
            "  Downloading tzlocal-4.3.1-py3-none-any.whl (20 kB)\n",
            "Collecting validators<1,>=0.2 (from streamlit)\n",
            "  Downloading validators-0.22.0-py3-none-any.whl (26 kB)\n",
            "Collecting gitpython!=3.1.19,<4,>=3.0.7 (from streamlit)\n",
            "  Downloading GitPython-3.1.34-py3-none-any.whl (188 kB)\n",
            "\u001b[2K     \u001b[90m━━━━━━━━━━━━━━━━━━━━━━━━━━━━━━━━━━━━━━\u001b[0m \u001b[32m188.6/188.6 kB\u001b[0m \u001b[31m24.5 MB/s\u001b[0m eta \u001b[36m0:00:00\u001b[0m\n",
            "\u001b[?25hCollecting pydeck<1,>=0.8 (from streamlit)\n",
            "  Downloading pydeck-0.8.0-py2.py3-none-any.whl (4.7 MB)\n",
            "\u001b[2K     \u001b[90m━━━━━━━━━━━━━━━━━━━━━━━━━━━━━━━━━━━━━━━━\u001b[0m \u001b[32m4.7/4.7 MB\u001b[0m \u001b[31m63.1 MB/s\u001b[0m eta \u001b[36m0:00:00\u001b[0m\n",
            "\u001b[?25hRequirement already satisfied: tornado<7,>=6.0.3 in /usr/local/lib/python3.10/dist-packages (from streamlit) (6.3.2)\n",
            "Collecting watchdog>=2.1.5 (from streamlit)\n",
            "  Downloading watchdog-3.0.0-py3-none-manylinux2014_x86_64.whl (82 kB)\n",
            "\u001b[2K     \u001b[90m━━━━━━━━━━━━━━━━━━━━━━━━━━━━━━━━━━━━━━━━\u001b[0m \u001b[32m82.1/82.1 kB\u001b[0m \u001b[31m11.9 MB/s\u001b[0m eta \u001b[36m0:00:00\u001b[0m\n",
            "\u001b[?25hRequirement already satisfied: entrypoints in /usr/local/lib/python3.10/dist-packages (from altair<6,>=4.0->streamlit) (0.4)\n",
            "Requirement already satisfied: jinja2 in /usr/local/lib/python3.10/dist-packages (from altair<6,>=4.0->streamlit) (3.1.2)\n",
            "Requirement already satisfied: jsonschema>=3.0 in /usr/local/lib/python3.10/dist-packages (from altair<6,>=4.0->streamlit) (4.19.0)\n",
            "Requirement already satisfied: toolz in /usr/local/lib/python3.10/dist-packages (from altair<6,>=4.0->streamlit) (0.12.0)\n",
            "Collecting gitdb<5,>=4.0.1 (from gitpython!=3.1.19,<4,>=3.0.7->streamlit)\n",
            "  Downloading gitdb-4.0.10-py3-none-any.whl (62 kB)\n",
            "\u001b[2K     \u001b[90m━━━━━━━━━━━━━━━━━━━━━━━━━━━━━━━━━━━━━━━━\u001b[0m \u001b[32m62.7/62.7 kB\u001b[0m \u001b[31m7.7 MB/s\u001b[0m eta \u001b[36m0:00:00\u001b[0m\n",
            "\u001b[?25hRequirement already satisfied: zipp>=0.5 in /usr/local/lib/python3.10/dist-packages (from importlib-metadata<7,>=1.4->streamlit) (3.16.2)\n",
            "Requirement already satisfied: pytz>=2020.1 in /usr/local/lib/python3.10/dist-packages (from pandas<3,>=1.3.0->streamlit) (2023.3)\n",
            "Requirement already satisfied: six>=1.5 in /usr/local/lib/python3.10/dist-packages (from python-dateutil<3,>=2.7.3->streamlit) (1.16.0)\n",
            "Requirement already satisfied: charset-normalizer<4,>=2 in /usr/local/lib/python3.10/dist-packages (from requests<3,>=2.18->streamlit) (3.2.0)\n",
            "Requirement already satisfied: idna<4,>=2.5 in /usr/local/lib/python3.10/dist-packages (from requests<3,>=2.18->streamlit) (3.4)\n",
            "Requirement already satisfied: urllib3<3,>=1.21.1 in /usr/local/lib/python3.10/dist-packages (from requests<3,>=2.18->streamlit) (2.0.4)\n",
            "Requirement already satisfied: certifi>=2017.4.17 in /usr/local/lib/python3.10/dist-packages (from requests<3,>=2.18->streamlit) (2023.7.22)\n",
            "Requirement already satisfied: markdown-it-py>=2.2.0 in /usr/local/lib/python3.10/dist-packages (from rich<14,>=10.14.0->streamlit) (3.0.0)\n",
            "Requirement already satisfied: pygments<3.0.0,>=2.13.0 in /usr/local/lib/python3.10/dist-packages (from rich<14,>=10.14.0->streamlit) (2.16.1)\n",
            "Collecting pytz-deprecation-shim (from tzlocal<5,>=1.1->streamlit)\n",
            "  Downloading pytz_deprecation_shim-0.1.0.post0-py2.py3-none-any.whl (15 kB)\n",
            "Collecting smmap<6,>=3.0.1 (from gitdb<5,>=4.0.1->gitpython!=3.1.19,<4,>=3.0.7->streamlit)\n",
            "  Downloading smmap-5.0.0-py3-none-any.whl (24 kB)\n",
            "Requirement already satisfied: MarkupSafe>=2.0 in /usr/local/lib/python3.10/dist-packages (from jinja2->altair<6,>=4.0->streamlit) (2.1.3)\n",
            "Requirement already satisfied: attrs>=22.2.0 in /usr/local/lib/python3.10/dist-packages (from jsonschema>=3.0->altair<6,>=4.0->streamlit) (23.1.0)\n",
            "Requirement already satisfied: jsonschema-specifications>=2023.03.6 in /usr/local/lib/python3.10/dist-packages (from jsonschema>=3.0->altair<6,>=4.0->streamlit) (2023.7.1)\n",
            "Requirement already satisfied: referencing>=0.28.4 in /usr/local/lib/python3.10/dist-packages (from jsonschema>=3.0->altair<6,>=4.0->streamlit) (0.30.2)\n",
            "Requirement already satisfied: rpds-py>=0.7.1 in /usr/local/lib/python3.10/dist-packages (from jsonschema>=3.0->altair<6,>=4.0->streamlit) (0.9.2)\n",
            "Requirement already satisfied: mdurl~=0.1 in /usr/local/lib/python3.10/dist-packages (from markdown-it-py>=2.2.0->rich<14,>=10.14.0->streamlit) (0.1.2)\n",
            "Collecting tzdata (from pytz-deprecation-shim->tzlocal<5,>=1.1->streamlit)\n",
            "  Downloading tzdata-2023.3-py2.py3-none-any.whl (341 kB)\n",
            "\u001b[2K     \u001b[90m━━━━━━━━━━━━━━━━━━━━━━━━━━━━━━━━━━━━━━\u001b[0m \u001b[32m341.8/341.8 kB\u001b[0m \u001b[31m41.2 MB/s\u001b[0m eta \u001b[36m0:00:00\u001b[0m\n",
            "\u001b[?25hInstalling collected packages: watchdog, validators, tzdata, smmap, pympler, pytz-deprecation-shim, pydeck, gitdb, tzlocal, gitpython, streamlit\n",
            "  Attempting uninstall: tzlocal\n",
            "    Found existing installation: tzlocal 5.0.1\n",
            "    Uninstalling tzlocal-5.0.1:\n",
            "      Successfully uninstalled tzlocal-5.0.1\n",
            "Successfully installed gitdb-4.0.10 gitpython-3.1.34 pydeck-0.8.0 pympler-1.0.1 pytz-deprecation-shim-0.1.0.post0 smmap-5.0.0 streamlit-1.26.0 tzdata-2023.3 tzlocal-4.3.1 validators-0.22.0 watchdog-3.0.0\n"
          ]
        }
      ]
    },
    {
      "cell_type": "code",
      "source": [
        "import streamlit as st\n",
        "import numpy as np\n",
        "from tensorflow.keras.models import load_model\n",
        "import cv2\n",
        "import tempfile\n",
        "import os\n",
        "from collections import Counter\n",
        "\n",
        "# Load your pre-trained model and perform other operations\n",
        "CNN3D_model = load_model('/content/drive/MyDrive/ProjectResearchMsc/Model/LRCN_slidingWindow_L2_01.h5')\n",
        "CNN3D_model.compile(loss='categorical_crossentropy', optimizer='adam', metrics=['accuracy'], run_eagerly=True)\n",
        "CLASSES_LIST = [\"deaf\", \"help\", \"no\", \"thin\",\"walk\",\"yes\",\"finish\",\"hot\",\"many\",\"bad\"]\n",
        "\n",
        "st.title('Sign Language Classification Using Machine Learning')\n",
        "\n",
        "# Use Streamlit's file_uploader to allow users to upload a video\n",
        "video_path = st.file_uploader(\"Upload a video\", type=[\"mp4\", \"MOV\"])\n",
        "\n",
        "if video_path is not None:\n",
        "    st.write(\"Processing video...\")\n",
        "    st.video(video_path)\n",
        "\n",
        "    # Create a temporary directory to store the uploaded video\n",
        "    temp_dir = tempfile.mkdtemp()\n",
        "    temp_video_path = os.path.join(temp_dir, \"temp_video.mp4\")\n",
        "\n",
        "    # Write the uploaded video to the temporary directory\n",
        "    with open(temp_video_path, \"wb\") as temp_video_file:\n",
        "        temp_video_file.write(video_path.read())\n",
        "\n",
        "    # Initialize an empty list to store video frames\n",
        "    video_frames = []\n",
        "\n",
        "    # Open the uploaded video file using OpenCV\n",
        "    cap = cv2.VideoCapture(temp_video_path)\n",
        "\n",
        "    while True:\n",
        "        ret, frame = cap.read()\n",
        "        if not ret:\n",
        "            break\n",
        "\n",
        "        # Resize frame to match model's input shape (64x64)\n",
        "        frame = cv2.resize(frame, (64, 64))\n",
        "\n",
        "        video_frames.append(frame)\n",
        "\n",
        "    cap.release()\n",
        "\n",
        "    # Normalize pixel values\n",
        "    video_frames = np.array(video_frames) / 255.0\n",
        "\n",
        "    # Organize frames into sequences with length 50\n",
        "    sequence_length = 50\n",
        "    num_frames = len(video_frames)\n",
        "\n",
        "    sequences = []\n",
        "    for i in range(0, num_frames - sequence_length + 1, sequence_length):\n",
        "        sequence = video_frames[i:i + sequence_length]\n",
        "        sequences.append(sequence)\n",
        "\n",
        "    sequences = np.array(sequences)\n",
        "\n",
        "    predictions = CNN3D_model.predict(sequences)\n",
        "\n",
        "    # Assuming predictions contain class probabilities\n",
        "    predicted_class_indices = np.argmax(predictions, axis=-1)\n",
        "    predicted_labels = [CLASSES_LIST[i] for i in predicted_class_indices]\n",
        "\n",
        "    # Count the occurrences of each label\n",
        "    label_counts = Counter(predicted_labels)\n",
        "\n",
        "    # Calculate the percentage of each label\n",
        "    total_labels = len(predicted_labels)\n",
        "    label_percentages = {label: count / total_labels * 100 for label, count in label_counts.items()}\n",
        "\n",
        "    # Find the most frequent label\n",
        "    most_frequent_label = max(label_percentages, key=label_percentages.get)\n",
        "\n",
        "    st.write(\"Predicted Output:\", most_frequent_label)\n",
        "    st.write(\"Predicted Labels and Percentages:\")\n",
        "    for label, percentage in label_percentages.items():\n",
        "        st.write(f\"{label}: {percentage:.2f}%\")\n",
        "\n",
        "    # Display the video using OpenCV's cv2_imshow\n",
        "    for frame in video_frames:\n",
        "        cv2.imshow(\"Video\", frame)\n",
        "        cv2.waitKey(30)  # Adjust the delay (in milliseconds) between frames\n",
        "\n",
        "    cv2.destroyAllWindows()\n",
        "\n",
        "    # Cleanup temporary directory and video file\n",
        "    os.remove(temp_video_path)\n",
        "    os.rmdir(temp_dir)\n"
      ],
      "metadata": {
        "id": "Mgh3H_G9AATh"
      },
      "execution_count": null,
      "outputs": []
    },
    {
      "cell_type": "code",
      "source": [
        "!streamlit run /usr/local/lib/python3.10/dist-packages/ipykernel_launcher.py"
      ],
      "metadata": {
        "id": "6SuBea7UCeiS"
      },
      "execution_count": null,
      "outputs": []
    }
  ],
  "metadata": {
    "colab": {
      "provenance": [],
      "gpuType": "A100",
      "mount_file_id": "10rEuzVqENtMlnQ1fbZYyujCcllrpW5SS",
      "authorship_tag": "ABX9TyNKd0ukWdHK63Za96UQ6w/l",
      "include_colab_link": true
    },
    "kernelspec": {
      "display_name": "Python 3",
      "name": "python3"
    },
    "language_info": {
      "name": "python"
    },
    "accelerator": "GPU"
  },
  "nbformat": 4,
  "nbformat_minor": 0
}